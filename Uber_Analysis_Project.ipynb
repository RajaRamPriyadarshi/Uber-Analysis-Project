{
  "nbformat": 4,
  "nbformat_minor": 0,
  "metadata": {
    "colab": {
      "name": "Copy of Uber Analysis Project.ipynb",
      "provenance": [],
      "collapsed_sections": []
    },
    "kernelspec": {
      "name": "python3",
      "display_name": "Python 3"
    },
    "language_info": {
      "name": "python"
    }
  },
  "cells": [
    {
      "cell_type": "code",
      "execution_count": null,
      "metadata": {
        "id": "yBhs74PZQbRJ"
      },
      "outputs": [],
      "source": [
        "import pandas as pd\n",
        "import numpy as np\n",
        "import seaborn as sns\n",
        "import datetime as dt\n",
        "import matplotlib.pyplot as plt"
      ]
    },
    {
      "cell_type": "code",
      "source": [
        "df=pd.read_csv(\"/content/drive/MyDrive/Raw Data Set Decoder/Uber Request Data.csv\")\n",
        "df"
      ],
      "metadata": {
        "id": "G9fBBOJoVMVF",
        "colab": {
          "base_uri": "https://localhost:8080/",
          "height": 424
        },
        "outputId": "de7daffb-30dc-4c4e-8a00-46569d721649"
      },
      "execution_count": null,
      "outputs": [
        {
          "output_type": "execute_result",
          "data": {
            "text/html": [
              "\n",
              "  <div id=\"df-9b66003f-a699-462f-ad15-21453a4dca04\">\n",
              "    <div class=\"colab-df-container\">\n",
              "      <div>\n",
              "<style scoped>\n",
              "    .dataframe tbody tr th:only-of-type {\n",
              "        vertical-align: middle;\n",
              "    }\n",
              "\n",
              "    .dataframe tbody tr th {\n",
              "        vertical-align: top;\n",
              "    }\n",
              "\n",
              "    .dataframe thead th {\n",
              "        text-align: right;\n",
              "    }\n",
              "</style>\n",
              "<table border=\"1\" class=\"dataframe\">\n",
              "  <thead>\n",
              "    <tr style=\"text-align: right;\">\n",
              "      <th></th>\n",
              "      <th>Request id</th>\n",
              "      <th>Pickup point</th>\n",
              "      <th>Driver id</th>\n",
              "      <th>Status</th>\n",
              "      <th>Request timestamp</th>\n",
              "      <th>Drop timestamp</th>\n",
              "    </tr>\n",
              "  </thead>\n",
              "  <tbody>\n",
              "    <tr>\n",
              "      <th>0</th>\n",
              "      <td>619</td>\n",
              "      <td>Airport</td>\n",
              "      <td>1.0</td>\n",
              "      <td>Trip Completed</td>\n",
              "      <td>11/7/2016 11:51</td>\n",
              "      <td>11/7/2016 13:00</td>\n",
              "    </tr>\n",
              "    <tr>\n",
              "      <th>1</th>\n",
              "      <td>867</td>\n",
              "      <td>Airport</td>\n",
              "      <td>1.0</td>\n",
              "      <td>Trip Completed</td>\n",
              "      <td>11/7/2016 17:57</td>\n",
              "      <td>11/7/2016 18:47</td>\n",
              "    </tr>\n",
              "    <tr>\n",
              "      <th>2</th>\n",
              "      <td>1807</td>\n",
              "      <td>City</td>\n",
              "      <td>1.0</td>\n",
              "      <td>Trip Completed</td>\n",
              "      <td>12/7/2016 9:17</td>\n",
              "      <td>12/7/2016 9:58</td>\n",
              "    </tr>\n",
              "    <tr>\n",
              "      <th>3</th>\n",
              "      <td>2532</td>\n",
              "      <td>Airport</td>\n",
              "      <td>1.0</td>\n",
              "      <td>Trip Completed</td>\n",
              "      <td>12/7/2016 21:08</td>\n",
              "      <td>12/7/2016 22:03</td>\n",
              "    </tr>\n",
              "    <tr>\n",
              "      <th>4</th>\n",
              "      <td>3112</td>\n",
              "      <td>City</td>\n",
              "      <td>1.0</td>\n",
              "      <td>Trip Completed</td>\n",
              "      <td>13-07-2016 08:33:16</td>\n",
              "      <td>13-07-2016 09:25:47</td>\n",
              "    </tr>\n",
              "    <tr>\n",
              "      <th>...</th>\n",
              "      <td>...</td>\n",
              "      <td>...</td>\n",
              "      <td>...</td>\n",
              "      <td>...</td>\n",
              "      <td>...</td>\n",
              "      <td>...</td>\n",
              "    </tr>\n",
              "    <tr>\n",
              "      <th>6740</th>\n",
              "      <td>6745</td>\n",
              "      <td>City</td>\n",
              "      <td>NaN</td>\n",
              "      <td>No Cars Available</td>\n",
              "      <td>15-07-2016 23:49:03</td>\n",
              "      <td>NaN</td>\n",
              "    </tr>\n",
              "    <tr>\n",
              "      <th>6741</th>\n",
              "      <td>6752</td>\n",
              "      <td>Airport</td>\n",
              "      <td>NaN</td>\n",
              "      <td>No Cars Available</td>\n",
              "      <td>15-07-2016 23:50:05</td>\n",
              "      <td>NaN</td>\n",
              "    </tr>\n",
              "    <tr>\n",
              "      <th>6742</th>\n",
              "      <td>6751</td>\n",
              "      <td>City</td>\n",
              "      <td>NaN</td>\n",
              "      <td>No Cars Available</td>\n",
              "      <td>15-07-2016 23:52:06</td>\n",
              "      <td>NaN</td>\n",
              "    </tr>\n",
              "    <tr>\n",
              "      <th>6743</th>\n",
              "      <td>6754</td>\n",
              "      <td>City</td>\n",
              "      <td>NaN</td>\n",
              "      <td>No Cars Available</td>\n",
              "      <td>15-07-2016 23:54:39</td>\n",
              "      <td>NaN</td>\n",
              "    </tr>\n",
              "    <tr>\n",
              "      <th>6744</th>\n",
              "      <td>6753</td>\n",
              "      <td>Airport</td>\n",
              "      <td>NaN</td>\n",
              "      <td>No Cars Available</td>\n",
              "      <td>15-07-2016 23:55:03</td>\n",
              "      <td>NaN</td>\n",
              "    </tr>\n",
              "  </tbody>\n",
              "</table>\n",
              "<p>6745 rows × 6 columns</p>\n",
              "</div>\n",
              "      <button class=\"colab-df-convert\" onclick=\"convertToInteractive('df-9b66003f-a699-462f-ad15-21453a4dca04')\"\n",
              "              title=\"Convert this dataframe to an interactive table.\"\n",
              "              style=\"display:none;\">\n",
              "        \n",
              "  <svg xmlns=\"http://www.w3.org/2000/svg\" height=\"24px\"viewBox=\"0 0 24 24\"\n",
              "       width=\"24px\">\n",
              "    <path d=\"M0 0h24v24H0V0z\" fill=\"none\"/>\n",
              "    <path d=\"M18.56 5.44l.94 2.06.94-2.06 2.06-.94-2.06-.94-.94-2.06-.94 2.06-2.06.94zm-11 1L8.5 8.5l.94-2.06 2.06-.94-2.06-.94L8.5 2.5l-.94 2.06-2.06.94zm10 10l.94 2.06.94-2.06 2.06-.94-2.06-.94-.94-2.06-.94 2.06-2.06.94z\"/><path d=\"M17.41 7.96l-1.37-1.37c-.4-.4-.92-.59-1.43-.59-.52 0-1.04.2-1.43.59L10.3 9.45l-7.72 7.72c-.78.78-.78 2.05 0 2.83L4 21.41c.39.39.9.59 1.41.59.51 0 1.02-.2 1.41-.59l7.78-7.78 2.81-2.81c.8-.78.8-2.07 0-2.86zM5.41 20L4 18.59l7.72-7.72 1.47 1.35L5.41 20z\"/>\n",
              "  </svg>\n",
              "      </button>\n",
              "      \n",
              "  <style>\n",
              "    .colab-df-container {\n",
              "      display:flex;\n",
              "      flex-wrap:wrap;\n",
              "      gap: 12px;\n",
              "    }\n",
              "\n",
              "    .colab-df-convert {\n",
              "      background-color: #E8F0FE;\n",
              "      border: none;\n",
              "      border-radius: 50%;\n",
              "      cursor: pointer;\n",
              "      display: none;\n",
              "      fill: #1967D2;\n",
              "      height: 32px;\n",
              "      padding: 0 0 0 0;\n",
              "      width: 32px;\n",
              "    }\n",
              "\n",
              "    .colab-df-convert:hover {\n",
              "      background-color: #E2EBFA;\n",
              "      box-shadow: 0px 1px 2px rgba(60, 64, 67, 0.3), 0px 1px 3px 1px rgba(60, 64, 67, 0.15);\n",
              "      fill: #174EA6;\n",
              "    }\n",
              "\n",
              "    [theme=dark] .colab-df-convert {\n",
              "      background-color: #3B4455;\n",
              "      fill: #D2E3FC;\n",
              "    }\n",
              "\n",
              "    [theme=dark] .colab-df-convert:hover {\n",
              "      background-color: #434B5C;\n",
              "      box-shadow: 0px 1px 3px 1px rgba(0, 0, 0, 0.15);\n",
              "      filter: drop-shadow(0px 1px 2px rgba(0, 0, 0, 0.3));\n",
              "      fill: #FFFFFF;\n",
              "    }\n",
              "  </style>\n",
              "\n",
              "      <script>\n",
              "        const buttonEl =\n",
              "          document.querySelector('#df-9b66003f-a699-462f-ad15-21453a4dca04 button.colab-df-convert');\n",
              "        buttonEl.style.display =\n",
              "          google.colab.kernel.accessAllowed ? 'block' : 'none';\n",
              "\n",
              "        async function convertToInteractive(key) {\n",
              "          const element = document.querySelector('#df-9b66003f-a699-462f-ad15-21453a4dca04');\n",
              "          const dataTable =\n",
              "            await google.colab.kernel.invokeFunction('convertToInteractive',\n",
              "                                                     [key], {});\n",
              "          if (!dataTable) return;\n",
              "\n",
              "          const docLinkHtml = 'Like what you see? Visit the ' +\n",
              "            '<a target=\"_blank\" href=https://colab.research.google.com/notebooks/data_table.ipynb>data table notebook</a>'\n",
              "            + ' to learn more about interactive tables.';\n",
              "          element.innerHTML = '';\n",
              "          dataTable['output_type'] = 'display_data';\n",
              "          await google.colab.output.renderOutput(dataTable, element);\n",
              "          const docLink = document.createElement('div');\n",
              "          docLink.innerHTML = docLinkHtml;\n",
              "          element.appendChild(docLink);\n",
              "        }\n",
              "      </script>\n",
              "    </div>\n",
              "  </div>\n",
              "  "
            ],
            "text/plain": [
              "      Request id Pickup point  Driver id             Status  \\\n",
              "0            619      Airport        1.0     Trip Completed   \n",
              "1            867      Airport        1.0     Trip Completed   \n",
              "2           1807         City        1.0     Trip Completed   \n",
              "3           2532      Airport        1.0     Trip Completed   \n",
              "4           3112         City        1.0     Trip Completed   \n",
              "...          ...          ...        ...                ...   \n",
              "6740        6745         City        NaN  No Cars Available   \n",
              "6741        6752      Airport        NaN  No Cars Available   \n",
              "6742        6751         City        NaN  No Cars Available   \n",
              "6743        6754         City        NaN  No Cars Available   \n",
              "6744        6753      Airport        NaN  No Cars Available   \n",
              "\n",
              "        Request timestamp       Drop timestamp  \n",
              "0         11/7/2016 11:51      11/7/2016 13:00  \n",
              "1         11/7/2016 17:57      11/7/2016 18:47  \n",
              "2          12/7/2016 9:17       12/7/2016 9:58  \n",
              "3         12/7/2016 21:08      12/7/2016 22:03  \n",
              "4     13-07-2016 08:33:16  13-07-2016 09:25:47  \n",
              "...                   ...                  ...  \n",
              "6740  15-07-2016 23:49:03                  NaN  \n",
              "6741  15-07-2016 23:50:05                  NaN  \n",
              "6742  15-07-2016 23:52:06                  NaN  \n",
              "6743  15-07-2016 23:54:39                  NaN  \n",
              "6744  15-07-2016 23:55:03                  NaN  \n",
              "\n",
              "[6745 rows x 6 columns]"
            ]
          },
          "metadata": {},
          "execution_count": 32
        }
      ]
    },
    {
      "cell_type": "markdown",
      "source": [
        "Checking NO Duplicate value present in Request Id\n",
        "\n",
        "> Indented block\n",
        "\n"
      ],
      "metadata": {
        "id": "4zZCUlAQ1hTQ"
      }
    },
    {
      "cell_type": "code",
      "source": [
        "len(df[\"Request id\"].unique())"
      ],
      "metadata": {
        "colab": {
          "base_uri": "https://localhost:8080/"
        },
        "id": "uRISzK791oLn",
        "outputId": "192ba656-0fb4-46b8-92f8-4daf2cb6dba0"
      },
      "execution_count": null,
      "outputs": [
        {
          "output_type": "execute_result",
          "data": {
            "text/plain": [
              "6745"
            ]
          },
          "metadata": {},
          "execution_count": 33
        }
      ]
    },
    {
      "cell_type": "code",
      "source": [
        "df.shape"
      ],
      "metadata": {
        "colab": {
          "base_uri": "https://localhost:8080/"
        },
        "id": "9G-qu8re1vYM",
        "outputId": "fc81cc02-a371-4c89-d576-f4a308f80bef"
      },
      "execution_count": null,
      "outputs": [
        {
          "output_type": "execute_result",
          "data": {
            "text/plain": [
              "(6745, 6)"
            ]
          },
          "metadata": {},
          "execution_count": 34
        }
      ]
    },
    {
      "cell_type": "markdown",
      "source": [
        "Checking For Null Values Present In Dataset"
      ],
      "metadata": {
        "id": "aUpXHthw24v0"
      }
    },
    {
      "cell_type": "code",
      "source": [
        "df.isnull().sum()"
      ],
      "metadata": {
        "colab": {
          "base_uri": "https://localhost:8080/"
        },
        "id": "yI6rn5n813_1",
        "outputId": "ca4d43f5-bbd2-4319-bb6f-55ea0e6b3339"
      },
      "execution_count": null,
      "outputs": [
        {
          "output_type": "execute_result",
          "data": {
            "text/plain": [
              "Request id              0\n",
              "Pickup point            0\n",
              "Driver id            2650\n",
              "Status                  0\n",
              "Request timestamp       0\n",
              "Drop timestamp       3914\n",
              "dtype: int64"
            ]
          },
          "metadata": {},
          "execution_count": 35
        }
      ]
    },
    {
      "cell_type": "markdown",
      "source": [
        "Percentage Of Null Values Present In dataset"
      ],
      "metadata": {
        "id": "LDtRQLe-3cI_"
      }
    },
    {
      "cell_type": "code",
      "source": [
        "df.isnull().sum()/df.shape[0]*100"
      ],
      "metadata": {
        "colab": {
          "base_uri": "https://localhost:8080/"
        },
        "id": "kLgDDQ1d3Fp1",
        "outputId": "cd5d8192-f27a-4937-a21c-3d84835f1918"
      },
      "execution_count": null,
      "outputs": [
        {
          "output_type": "execute_result",
          "data": {
            "text/plain": [
              "Request id            0.000000\n",
              "Pickup point          0.000000\n",
              "Driver id            39.288362\n",
              "Status                0.000000\n",
              "Request timestamp     0.000000\n",
              "Drop timestamp       58.028169\n",
              "dtype: float64"
            ]
          },
          "metadata": {},
          "execution_count": 36
        }
      ]
    },
    {
      "cell_type": "code",
      "source": [
        "df.info()"
      ],
      "metadata": {
        "colab": {
          "base_uri": "https://localhost:8080/"
        },
        "id": "mkGXrYwa3qQF",
        "outputId": "8c082788-4351-4ad4-fe1c-3f9ddafefc1a"
      },
      "execution_count": null,
      "outputs": [
        {
          "output_type": "stream",
          "name": "stdout",
          "text": [
            "<class 'pandas.core.frame.DataFrame'>\n",
            "RangeIndex: 6745 entries, 0 to 6744\n",
            "Data columns (total 6 columns):\n",
            " #   Column             Non-Null Count  Dtype  \n",
            "---  ------             --------------  -----  \n",
            " 0   Request id         6745 non-null   int64  \n",
            " 1   Pickup point       6745 non-null   object \n",
            " 2   Driver id          4095 non-null   float64\n",
            " 3   Status             6745 non-null   object \n",
            " 4   Request timestamp  6745 non-null   object \n",
            " 5   Drop timestamp     2831 non-null   object \n",
            "dtypes: float64(1), int64(1), object(4)\n",
            "memory usage: 316.3+ KB\n"
          ]
        }
      ]
    },
    {
      "cell_type": "markdown",
      "source": [
        "Converting Request Timestamp and Drop timestamp To Datetime\tFormat"
      ],
      "metadata": {
        "id": "dZKAxa5o4f1v"
      }
    },
    {
      "cell_type": "code",
      "source": [
        "df[\"Request timestamp\"]=df[\"Request timestamp\"].astype(str)"
      ],
      "metadata": {
        "id": "anUhhI6J4HhA"
      },
      "execution_count": null,
      "outputs": []
    },
    {
      "cell_type": "code",
      "source": [
        "df[\"Request timestamp\"]=df[\"Request timestamp\"].replace(\"/\",\"-\")"
      ],
      "metadata": {
        "id": "_zbbFSxR6iY7"
      },
      "execution_count": null,
      "outputs": []
    },
    {
      "cell_type": "code",
      "source": [
        "df[\"Request timestamp\"]=pd.to_datetime(df[\"Request timestamp\"],dayfirst=True)"
      ],
      "metadata": {
        "id": "X3yyvK456LdP"
      },
      "execution_count": null,
      "outputs": []
    },
    {
      "cell_type": "code",
      "source": [
        "df[\"Drop timestamp\"]=pd.to_datetime(df[\"Drop timestamp\"],dayfirst=True)"
      ],
      "metadata": {
        "id": "IE1aF0ur48cY"
      },
      "execution_count": null,
      "outputs": []
    },
    {
      "cell_type": "markdown",
      "source": [
        "Extract Hour From The Datetime"
      ],
      "metadata": {
        "id": "VkaASpkw8JjX"
      }
    },
    {
      "cell_type": "code",
      "source": [
        "df[\"req_hour\"]=df[\"Request timestamp\"].dt.hour"
      ],
      "metadata": {
        "id": "b_g59tnA8QJk"
      },
      "execution_count": null,
      "outputs": []
    },
    {
      "cell_type": "markdown",
      "source": [
        "Extract Day From The Request timestamp"
      ],
      "metadata": {
        "id": "yX7wyyqI--WW"
      }
    },
    {
      "cell_type": "code",
      "source": [
        "df[\"req_day\"]=df[\"Request timestamp\"].dt.day"
      ],
      "metadata": {
        "id": "sRYPh1zH_K_O"
      },
      "execution_count": null,
      "outputs": []
    },
    {
      "cell_type": "markdown",
      "source": [
        "Making Plots For Analysis"
      ],
      "metadata": {
        "id": "C5d7kwIPBqbD"
      }
    },
    {
      "cell_type": "code",
      "source": [
        "sns.countplot(x=\"req_hour\",data=df,hue=\"Status\")\n",
        "plt.show()"
      ],
      "metadata": {
        "colab": {
          "base_uri": "https://localhost:8080/",
          "height": 280
        },
        "id": "Nso-4UaA_V96",
        "outputId": "46a8d0db-ee48-489f-c6d6-24ba6ba435a1"
      },
      "execution_count": null,
      "outputs": [
        {
          "output_type": "display_data",
          "data": {
            "image/png": "[encoded data removed]",
            "text/plain": [
              "<Figure size 432x288 with 1 Axes>"
            ]
          },
          "metadata": {
            "needs_background": "light"
          }
        }
      ]
    },
    {
      "cell_type": "code",
      "source": [
        "sns.factorplot(x=\"req_hour\",data=df,row=\"req_day\",hue=\"Status\",kind=\"count\")\n",
        "plt.show()"
      ],
      "metadata": {
        "colab": {
          "base_uri": "https://localhost:8080/",
          "height": 1000
        },
        "id": "YDgY9plq_Xlr",
        "outputId": "53270212-f996-45f6-d6c5-ba2d2fb9f310"
      },
      "execution_count": null,
      "outputs": [
        {
          "output_type": "stream",
          "name": "stderr",
          "text": [
            "/usr/local/lib/python3.7/dist-packages/seaborn/categorical.py:3717: UserWarning: The `factorplot` function has been renamed to `catplot`. The original name will be removed in a future release. Please update your code. Note that the default `kind` in `factorplot` (`'point'`) has changed `'strip'` in `catplot`.\n",
            "  warnings.warn(msg)\n"
          ]
        },
        {
          "output_type": "display_data",
          "data": {
            "image/png": "[encoded data removed]",
            "text/plain": [
              "<Figure size 483.5x1800 with 5 Axes>"
            ]
          },
          "metadata": {
            "needs_background": "light"
          }
        }
      ]
    },
    {
      "cell_type": "code",
      "source": [
        "sns.factorplot(x=\"req_hour\",data=df,row=\"req_day\",hue=\"Pickup point\",kind=\"count\")\n",
        "plt.show()"
      ],
      "metadata": {
        "colab": {
          "base_uri": "https://localhost:8080/",
          "height": 1000
        },
        "id": "tKyYex7qCGAR",
        "outputId": "adea09aa-9a9b-4ca3-e957-125d97a01cdf"
      },
      "execution_count": null,
      "outputs": [
        {
          "output_type": "stream",
          "name": "stderr",
          "text": [
            "/usr/local/lib/python3.7/dist-packages/seaborn/categorical.py:3717: UserWarning: The `factorplot` function has been renamed to `catplot`. The original name will be removed in a future release. Please update your code. Note that the default `kind` in `factorplot` (`'point'`) has changed `'strip'` in `catplot`.\n",
            "  warnings.warn(msg)\n"
          ]
        },
        {
          "output_type": "display_data",
          "data": {
            "image/png": "[encoded data removed]",
            "text/plain": [
              "<Figure size 430.125x1800 with 5 Axes>"
            ]
          },
          "metadata": {
            "needs_background": "light"
          }
        }
      ]
    },
    {
      "cell_type": "code",
      "source": [
        "sns.factorplot(x=\"req_hour\",data=df,hue=\"Pickup point\",kind=\"count\")\n",
        "plt.show()"
      ],
      "metadata": {
        "colab": {
          "base_uri": "https://localhost:8080/",
          "height": 424
        },
        "id": "49cu-kn1DLa0",
        "outputId": "62277862-2ef4-4d03-eb1c-d2fe107c515d"
      },
      "execution_count": null,
      "outputs": [
        {
          "output_type": "stream",
          "name": "stderr",
          "text": [
            "/usr/local/lib/python3.7/dist-packages/seaborn/categorical.py:3717: UserWarning: The `factorplot` function has been renamed to `catplot`. The original name will be removed in a future release. Please update your code. Note that the default `kind` in `factorplot` (`'point'`) has changed `'strip'` in `catplot`.\n",
            "  warnings.warn(msg)\n"
          ]
        },
        {
          "output_type": "display_data",
          "data": {
            "image/png": "[encoded data removed]",
            "text/plain": [
              "<Figure size 430.125x360 with 1 Axes>"
            ]
          },
          "metadata": {
            "needs_background": "light"
          }
        }
      ]
    },
    {
      "cell_type": "markdown",
      "source": [
        "MAking A New Column Name Time_Slot "
      ],
      "metadata": {
        "id": "NxjD3n4vLeza"
      }
    },
    {
      "cell_type": "code",
      "source": [
        "df[\"Time_slot\"]=0"
      ],
      "metadata": {
        "id": "y4GgH1YpKEb-"
      },
      "execution_count": null,
      "outputs": []
    },
    {
      "cell_type": "markdown",
      "source": [
        "Assigning Name Valus In Time_slot Column."
      ],
      "metadata": {
        "id": "6tQ3T8ISLpXW"
      }
    },
    {
      "cell_type": "code",
      "source": [
        "j=0\n",
        "for i in df[\"req_hour\"]:\n",
        "  if df.iloc[j,6]<5:\n",
        "    df.iloc[j,8]=\"Pre_Morning\"\n",
        "  elif 5<=df.iloc[j,6]<10:\n",
        "    df.iloc[j,8]=\"Morning_Rush\"\n",
        "  elif 10<=df.iloc[j,6]<17:\n",
        "    df.iloc[j,8]=\"Day_Time\"\n",
        "  elif 17<=df.iloc[j,6]<22:\n",
        "    df.iloc[j,8]=\"Evening_Rush\"\n",
        "  else:\n",
        "    df.iloc[j,8]=\"late_Night\"\n",
        "  j=j+1"
      ],
      "metadata": {
        "id": "R3_2cHh1JKDd"
      },
      "execution_count": null,
      "outputs": []
    },
    {
      "cell_type": "code",
      "source": [
        "df"
      ],
      "metadata": {
        "colab": {
          "base_uri": "https://localhost:8080/",
          "height": 424
        },
        "id": "CUaQByT6LUVi",
        "outputId": "67358a22-69f9-4407-aa72-7ca012a0af96"
      },
      "execution_count": null,
      "outputs": [
        {
          "output_type": "execute_result",
          "data": {
            "text/html": [
              "\n",
              "  <div id=\"df-61a42609-268d-4568-8d70-dfd2a4dd6545\">\n",
              "    <div class=\"colab-df-container\">\n",
              "      <div>\n",
              "<style scoped>\n",
              "    .dataframe tbody tr th:only-of-type {\n",
              "        vertical-align: middle;\n",
              "    }\n",
              "\n",
              "    .dataframe tbody tr th {\n",
              "        vertical-align: top;\n",
              "    }\n",
              "\n",
              "    .dataframe thead th {\n",
              "        text-align: right;\n",
              "    }\n",
              "</style>\n",
              "<table border=\"1\" class=\"dataframe\">\n",
              "  <thead>\n",
              "    <tr style=\"text-align: right;\">\n",
              "      <th></th>\n",
              "      <th>Request id</th>\n",
              "      <th>Pickup point</th>\n",
              "      <th>Driver id</th>\n",
              "      <th>Status</th>\n",
              "      <th>Request timestamp</th>\n",
              "      <th>Drop timestamp</th>\n",
              "      <th>req_hour</th>\n",
              "      <th>req_day</th>\n",
              "      <th>Time_slot</th>\n",
              "    </tr>\n",
              "  </thead>\n",
              "  <tbody>\n",
              "    <tr>\n",
              "      <th>0</th>\n",
              "      <td>619</td>\n",
              "      <td>Airport</td>\n",
              "      <td>1.0</td>\n",
              "      <td>Trip Completed</td>\n",
              "      <td>2016-07-11 11:51:00</td>\n",
              "      <td>2016-07-11 13:00:00</td>\n",
              "      <td>11</td>\n",
              "      <td>11</td>\n",
              "      <td>Day_Time</td>\n",
              "    </tr>\n",
              "    <tr>\n",
              "      <th>1</th>\n",
              "      <td>867</td>\n",
              "      <td>Airport</td>\n",
              "      <td>1.0</td>\n",
              "      <td>Trip Completed</td>\n",
              "      <td>2016-07-11 17:57:00</td>\n",
              "      <td>2016-07-11 18:47:00</td>\n",
              "      <td>17</td>\n",
              "      <td>11</td>\n",
              "      <td>Evening_Rush</td>\n",
              "    </tr>\n",
              "    <tr>\n",
              "      <th>2</th>\n",
              "      <td>1807</td>\n",
              "      <td>City</td>\n",
              "      <td>1.0</td>\n",
              "      <td>Trip Completed</td>\n",
              "      <td>2016-07-12 09:17:00</td>\n",
              "      <td>2016-07-12 09:58:00</td>\n",
              "      <td>9</td>\n",
              "      <td>12</td>\n",
              "      <td>Morning_Rush</td>\n",
              "    </tr>\n",
              "    <tr>\n",
              "      <th>3</th>\n",
              "      <td>2532</td>\n",
              "      <td>Airport</td>\n",
              "      <td>1.0</td>\n",
              "      <td>Trip Completed</td>\n",
              "      <td>2016-07-12 21:08:00</td>\n",
              "      <td>2016-07-12 22:03:00</td>\n",
              "      <td>21</td>\n",
              "      <td>12</td>\n",
              "      <td>Evening_Rush</td>\n",
              "    </tr>\n",
              "    <tr>\n",
              "      <th>4</th>\n",
              "      <td>3112</td>\n",
              "      <td>City</td>\n",
              "      <td>1.0</td>\n",
              "      <td>Trip Completed</td>\n",
              "      <td>2016-07-13 08:33:16</td>\n",
              "      <td>2016-07-13 09:25:47</td>\n",
              "      <td>8</td>\n",
              "      <td>13</td>\n",
              "      <td>Morning_Rush</td>\n",
              "    </tr>\n",
              "    <tr>\n",
              "      <th>...</th>\n",
              "      <td>...</td>\n",
              "      <td>...</td>\n",
              "      <td>...</td>\n",
              "      <td>...</td>\n",
              "      <td>...</td>\n",
              "      <td>...</td>\n",
              "      <td>...</td>\n",
              "      <td>...</td>\n",
              "      <td>...</td>\n",
              "    </tr>\n",
              "    <tr>\n",
              "      <th>6740</th>\n",
              "      <td>6745</td>\n",
              "      <td>City</td>\n",
              "      <td>NaN</td>\n",
              "      <td>No Cars Available</td>\n",
              "      <td>2016-07-15 23:49:03</td>\n",
              "      <td>NaT</td>\n",
              "      <td>23</td>\n",
              "      <td>15</td>\n",
              "      <td>late_Night</td>\n",
              "    </tr>\n",
              "    <tr>\n",
              "      <th>6741</th>\n",
              "      <td>6752</td>\n",
              "      <td>Airport</td>\n",
              "      <td>NaN</td>\n",
              "      <td>No Cars Available</td>\n",
              "      <td>2016-07-15 23:50:05</td>\n",
              "      <td>NaT</td>\n",
              "      <td>23</td>\n",
              "      <td>15</td>\n",
              "      <td>late_Night</td>\n",
              "    </tr>\n",
              "    <tr>\n",
              "      <th>6742</th>\n",
              "      <td>6751</td>\n",
              "      <td>City</td>\n",
              "      <td>NaN</td>\n",
              "      <td>No Cars Available</td>\n",
              "      <td>2016-07-15 23:52:06</td>\n",
              "      <td>NaT</td>\n",
              "      <td>23</td>\n",
              "      <td>15</td>\n",
              "      <td>late_Night</td>\n",
              "    </tr>\n",
              "    <tr>\n",
              "      <th>6743</th>\n",
              "      <td>6754</td>\n",
              "      <td>City</td>\n",
              "      <td>NaN</td>\n",
              "      <td>No Cars Available</td>\n",
              "      <td>2016-07-15 23:54:39</td>\n",
              "      <td>NaT</td>\n",
              "      <td>23</td>\n",
              "      <td>15</td>\n",
              "      <td>late_Night</td>\n",
              "    </tr>\n",
              "    <tr>\n",
              "      <th>6744</th>\n",
              "      <td>6753</td>\n",
              "      <td>Airport</td>\n",
              "      <td>NaN</td>\n",
              "      <td>No Cars Available</td>\n",
              "      <td>2016-07-15 23:55:03</td>\n",
              "      <td>NaT</td>\n",
              "      <td>23</td>\n",
              "      <td>15</td>\n",
              "      <td>late_Night</td>\n",
              "    </tr>\n",
              "  </tbody>\n",
              "</table>\n",
              "<p>6745 rows × 9 columns</p>\n",
              "</div>\n",
              "      <button class=\"colab-df-convert\" onclick=\"convertToInteractive('df-61a42609-268d-4568-8d70-dfd2a4dd6545')\"\n",
              "              title=\"Convert this dataframe to an interactive table.\"\n",
              "              style=\"display:none;\">\n",
              "        \n",
              "  <svg xmlns=\"http://www.w3.org/2000/svg\" height=\"24px\"viewBox=\"0 0 24 24\"\n",
              "       width=\"24px\">\n",
              "    <path d=\"M0 0h24v24H0V0z\" fill=\"none\"/>\n",
              "    <path d=\"M18.56 5.44l.94 2.06.94-2.06 2.06-.94-2.06-.94-.94-2.06-.94 2.06-2.06.94zm-11 1L8.5 8.5l.94-2.06 2.06-.94-2.06-.94L8.5 2.5l-.94 2.06-2.06.94zm10 10l.94 2.06.94-2.06 2.06-.94-2.06-.94-.94-2.06-.94 2.06-2.06.94z\"/><path d=\"M17.41 7.96l-1.37-1.37c-.4-.4-.92-.59-1.43-.59-.52 0-1.04.2-1.43.59L10.3 9.45l-7.72 7.72c-.78.78-.78 2.05 0 2.83L4 21.41c.39.39.9.59 1.41.59.51 0 1.02-.2 1.41-.59l7.78-7.78 2.81-2.81c.8-.78.8-2.07 0-2.86zM5.41 20L4 18.59l7.72-7.72 1.47 1.35L5.41 20z\"/>\n",
              "  </svg>\n",
              "      </button>\n",
              "      \n",
              "  <style>\n",
              "    .colab-df-container {\n",
              "      display:flex;\n",
              "      flex-wrap:wrap;\n",
              "      gap: 12px;\n",
              "    }\n",
              "\n",
              "    .colab-df-convert {\n",
              "      background-color: #E8F0FE;\n",
              "      border: none;\n",
              "      border-radius: 50%;\n",
              "      cursor: pointer;\n",
              "      display: none;\n",
              "      fill: #1967D2;\n",
              "      height: 32px;\n",
              "      padding: 0 0 0 0;\n",
              "      width: 32px;\n",
              "    }\n",
              "\n",
              "    .colab-df-convert:hover {\n",
              "      background-color: #E2EBFA;\n",
              "      box-shadow: 0px 1px 2px rgba(60, 64, 67, 0.3), 0px 1px 3px 1px rgba(60, 64, 67, 0.15);\n",
              "      fill: #174EA6;\n",
              "    }\n",
              "\n",
              "    [theme=dark] .colab-df-convert {\n",
              "      background-color: #3B4455;\n",
              "      fill: #D2E3FC;\n",
              "    }\n",
              "\n",
              "    [theme=dark] .colab-df-convert:hover {\n",
              "      background-color: #434B5C;\n",
              "      box-shadow: 0px 1px 3px 1px rgba(0, 0, 0, 0.15);\n",
              "      filter: drop-shadow(0px 1px 2px rgba(0, 0, 0, 0.3));\n",
              "      fill: #FFFFFF;\n",
              "    }\n",
              "  </style>\n",
              "\n",
              "      <script>\n",
              "        const buttonEl =\n",
              "          document.querySelector('#df-61a42609-268d-4568-8d70-dfd2a4dd6545 button.colab-df-convert');\n",
              "        buttonEl.style.display =\n",
              "          google.colab.kernel.accessAllowed ? 'block' : 'none';\n",
              "\n",
              "        async function convertToInteractive(key) {\n",
              "          const element = document.querySelector('#df-61a42609-268d-4568-8d70-dfd2a4dd6545');\n",
              "          const dataTable =\n",
              "            await google.colab.kernel.invokeFunction('convertToInteractive',\n",
              "                                                     [key], {});\n",
              "          if (!dataTable) return;\n",
              "\n",
              "          const docLinkHtml = 'Like what you see? Visit the ' +\n",
              "            '<a target=\"_blank\" href=https://colab.research.google.com/notebooks/data_table.ipynb>data table notebook</a>'\n",
              "            + ' to learn more about interactive tables.';\n",
              "          element.innerHTML = '';\n",
              "          dataTable['output_type'] = 'display_data';\n",
              "          await google.colab.output.renderOutput(dataTable, element);\n",
              "          const docLink = document.createElement('div');\n",
              "          docLink.innerHTML = docLinkHtml;\n",
              "          element.appendChild(docLink);\n",
              "        }\n",
              "      </script>\n",
              "    </div>\n",
              "  </div>\n",
              "  "
            ],
            "text/plain": [
              "      Request id Pickup point  Driver id             Status  \\\n",
              "0            619      Airport        1.0     Trip Completed   \n",
              "1            867      Airport        1.0     Trip Completed   \n",
              "2           1807         City        1.0     Trip Completed   \n",
              "3           2532      Airport        1.0     Trip Completed   \n",
              "4           3112         City        1.0     Trip Completed   \n",
              "...          ...          ...        ...                ...   \n",
              "6740        6745         City        NaN  No Cars Available   \n",
              "6741        6752      Airport        NaN  No Cars Available   \n",
              "6742        6751         City        NaN  No Cars Available   \n",
              "6743        6754         City        NaN  No Cars Available   \n",
              "6744        6753      Airport        NaN  No Cars Available   \n",
              "\n",
              "       Request timestamp      Drop timestamp  req_hour  req_day     Time_slot  \n",
              "0    2016-07-11 11:51:00 2016-07-11 13:00:00        11       11      Day_Time  \n",
              "1    2016-07-11 17:57:00 2016-07-11 18:47:00        17       11  Evening_Rush  \n",
              "2    2016-07-12 09:17:00 2016-07-12 09:58:00         9       12  Morning_Rush  \n",
              "3    2016-07-12 21:08:00 2016-07-12 22:03:00        21       12  Evening_Rush  \n",
              "4    2016-07-13 08:33:16 2016-07-13 09:25:47         8       13  Morning_Rush  \n",
              "...                  ...                 ...       ...      ...           ...  \n",
              "6740 2016-07-15 23:49:03                 NaT        23       15    late_Night  \n",
              "6741 2016-07-15 23:50:05                 NaT        23       15    late_Night  \n",
              "6742 2016-07-15 23:52:06                 NaT        23       15    late_Night  \n",
              "6743 2016-07-15 23:54:39                 NaT        23       15    late_Night  \n",
              "6744 2016-07-15 23:55:03                 NaT        23       15    late_Night  \n",
              "\n",
              "[6745 rows x 9 columns]"
            ]
          },
          "metadata": {},
          "execution_count": 64
        }
      ]
    },
    {
      "cell_type": "code",
      "source": [
        "df[\"Time_slot\"].value_counts()"
      ],
      "metadata": {
        "colab": {
          "base_uri": "https://localhost:8080/"
        },
        "id": "8UwcKwOhLYVj",
        "outputId": "44b9962d-c9be-4826-9032-3f4f4c43757c"
      },
      "execution_count": null,
      "outputs": [
        {
          "output_type": "execute_result",
          "data": {
            "text/plain": [
              "Evening_Rush    2342\n",
              "Morning_Rush    2103\n",
              "Day_Time        1224\n",
              "Pre_Morning      578\n",
              "late_Night       498\n",
              "Name: Time_slot, dtype: int64"
            ]
          },
          "metadata": {},
          "execution_count": 66
        }
      ]
    },
    {
      "cell_type": "code",
      "source": [
        "plt.figure(figsize=(15,5))\n",
        "sns.countplot(x=\"Time_slot\",hue=\"Status\",data=df)\n",
        "plt.show()"
      ],
      "metadata": {
        "colab": {
          "base_uri": "https://localhost:8080/",
          "height": 336
        },
        "id": "cmdFD5p4NXBR",
        "outputId": "b687abff-12d9-42dc-9cea-037cebda8724"
      },
      "execution_count": null,
      "outputs": [
        {
          "output_type": "display_data",
          "data": {
            "image/png": "[encoded data removed]",
            "text/plain": [
              "<Figure size 1080x360 with 1 Axes>"
            ]
          },
          "metadata": {
            "needs_background": "light"
          }
        }
      ]
    },
    {
      "cell_type": "markdown",
      "source": [
        "# **Making A New Dataset For Morning Rush**"
      ],
      "metadata": {
        "id": "5wELPJ75cs-I"
      }
    },
    {
      "cell_type": "code",
      "source": [
        "df_morning_rush=df[df[\"Time_slot\"]==\"Morning_Rush\"]\n",
        "df_morning_rush"
      ],
      "metadata": {
        "colab": {
          "base_uri": "https://localhost:8080/",
          "height": 424
        },
        "id": "cAf0OHQXRUy8",
        "outputId": "66abd777-000b-4ca5-bb81-a2d34d6c5d66"
      },
      "execution_count": null,
      "outputs": [
        {
          "output_type": "execute_result",
          "data": {
            "text/html": [
              "\n",
              "  <div id=\"df-7339d964-6254-47f0-a7fb-f333c851756e\">\n",
              "    <div class=\"colab-df-container\">\n",
              "      <div>\n",
              "<style scoped>\n",
              "    .dataframe tbody tr th:only-of-type {\n",
              "        vertical-align: middle;\n",
              "    }\n",
              "\n",
              "    .dataframe tbody tr th {\n",
              "        vertical-align: top;\n",
              "    }\n",
              "\n",
              "    .dataframe thead th {\n",
              "        text-align: right;\n",
              "    }\n",
              "</style>\n",
              "<table border=\"1\" class=\"dataframe\">\n",
              "  <thead>\n",
              "    <tr style=\"text-align: right;\">\n",
              "      <th></th>\n",
              "      <th>Request id</th>\n",
              "      <th>Pickup point</th>\n",
              "      <th>Driver id</th>\n",
              "      <th>Status</th>\n",
              "      <th>Request timestamp</th>\n",
              "      <th>Drop timestamp</th>\n",
              "      <th>req_hour</th>\n",
              "      <th>req_day</th>\n",
              "      <th>Time_slot</th>\n",
              "    </tr>\n",
              "  </thead>\n",
              "  <tbody>\n",
              "    <tr>\n",
              "      <th>2</th>\n",
              "      <td>1807</td>\n",
              "      <td>City</td>\n",
              "      <td>1.0</td>\n",
              "      <td>Trip Completed</td>\n",
              "      <td>2016-07-12 09:17:00</td>\n",
              "      <td>2016-07-12 09:58:00</td>\n",
              "      <td>9</td>\n",
              "      <td>12</td>\n",
              "      <td>Morning_Rush</td>\n",
              "    </tr>\n",
              "    <tr>\n",
              "      <th>4</th>\n",
              "      <td>3112</td>\n",
              "      <td>City</td>\n",
              "      <td>1.0</td>\n",
              "      <td>Trip Completed</td>\n",
              "      <td>2016-07-13 08:33:16</td>\n",
              "      <td>2016-07-13 09:25:47</td>\n",
              "      <td>8</td>\n",
              "      <td>13</td>\n",
              "      <td>Morning_Rush</td>\n",
              "    </tr>\n",
              "    <tr>\n",
              "      <th>6</th>\n",
              "      <td>4270</td>\n",
              "      <td>Airport</td>\n",
              "      <td>1.0</td>\n",
              "      <td>Trip Completed</td>\n",
              "      <td>2016-07-14 06:15:32</td>\n",
              "      <td>2016-07-14 07:13:15</td>\n",
              "      <td>6</td>\n",
              "      <td>14</td>\n",
              "      <td>Morning_Rush</td>\n",
              "    </tr>\n",
              "    <tr>\n",
              "      <th>7</th>\n",
              "      <td>5510</td>\n",
              "      <td>Airport</td>\n",
              "      <td>1.0</td>\n",
              "      <td>Trip Completed</td>\n",
              "      <td>2016-07-15 05:11:52</td>\n",
              "      <td>2016-07-15 06:07:52</td>\n",
              "      <td>5</td>\n",
              "      <td>15</td>\n",
              "      <td>Morning_Rush</td>\n",
              "    </tr>\n",
              "    <tr>\n",
              "      <th>9</th>\n",
              "      <td>267</td>\n",
              "      <td>City</td>\n",
              "      <td>2.0</td>\n",
              "      <td>Trip Completed</td>\n",
              "      <td>2016-07-11 06:46:00</td>\n",
              "      <td>2016-07-11 07:25:00</td>\n",
              "      <td>6</td>\n",
              "      <td>11</td>\n",
              "      <td>Morning_Rush</td>\n",
              "    </tr>\n",
              "    <tr>\n",
              "      <th>...</th>\n",
              "      <td>...</td>\n",
              "      <td>...</td>\n",
              "      <td>...</td>\n",
              "      <td>...</td>\n",
              "      <td>...</td>\n",
              "      <td>...</td>\n",
              "      <td>...</td>\n",
              "      <td>...</td>\n",
              "      <td>...</td>\n",
              "    </tr>\n",
              "    <tr>\n",
              "      <th>6307</th>\n",
              "      <td>5863</td>\n",
              "      <td>City</td>\n",
              "      <td>NaN</td>\n",
              "      <td>No Cars Available</td>\n",
              "      <td>2016-07-15 09:15:16</td>\n",
              "      <td>NaT</td>\n",
              "      <td>9</td>\n",
              "      <td>15</td>\n",
              "      <td>Morning_Rush</td>\n",
              "    </tr>\n",
              "    <tr>\n",
              "      <th>6308</th>\n",
              "      <td>5882</td>\n",
              "      <td>City</td>\n",
              "      <td>NaN</td>\n",
              "      <td>No Cars Available</td>\n",
              "      <td>2016-07-15 09:32:02</td>\n",
              "      <td>NaT</td>\n",
              "      <td>9</td>\n",
              "      <td>15</td>\n",
              "      <td>Morning_Rush</td>\n",
              "    </tr>\n",
              "    <tr>\n",
              "      <th>6309</th>\n",
              "      <td>5885</td>\n",
              "      <td>City</td>\n",
              "      <td>NaN</td>\n",
              "      <td>No Cars Available</td>\n",
              "      <td>2016-07-15 09:34:14</td>\n",
              "      <td>NaT</td>\n",
              "      <td>9</td>\n",
              "      <td>15</td>\n",
              "      <td>Morning_Rush</td>\n",
              "    </tr>\n",
              "    <tr>\n",
              "      <th>6310</th>\n",
              "      <td>5881</td>\n",
              "      <td>City</td>\n",
              "      <td>NaN</td>\n",
              "      <td>No Cars Available</td>\n",
              "      <td>2016-07-15 09:36:17</td>\n",
              "      <td>NaT</td>\n",
              "      <td>9</td>\n",
              "      <td>15</td>\n",
              "      <td>Morning_Rush</td>\n",
              "    </tr>\n",
              "    <tr>\n",
              "      <th>6311</th>\n",
              "      <td>5889</td>\n",
              "      <td>City</td>\n",
              "      <td>NaN</td>\n",
              "      <td>No Cars Available</td>\n",
              "      <td>2016-07-15 09:38:50</td>\n",
              "      <td>NaT</td>\n",
              "      <td>9</td>\n",
              "      <td>15</td>\n",
              "      <td>Morning_Rush</td>\n",
              "    </tr>\n",
              "  </tbody>\n",
              "</table>\n",
              "<p>2103 rows × 9 columns</p>\n",
              "</div>\n",
              "      <button class=\"colab-df-convert\" onclick=\"convertToInteractive('df-7339d964-6254-47f0-a7fb-f333c851756e')\"\n",
              "              title=\"Convert this dataframe to an interactive table.\"\n",
              "              style=\"display:none;\">\n",
              "        \n",
              "  <svg xmlns=\"http://www.w3.org/2000/svg\" height=\"24px\"viewBox=\"0 0 24 24\"\n",
              "       width=\"24px\">\n",
              "    <path d=\"M0 0h24v24H0V0z\" fill=\"none\"/>\n",
              "    <path d=\"M18.56 5.44l.94 2.06.94-2.06 2.06-.94-2.06-.94-.94-2.06-.94 2.06-2.06.94zm-11 1L8.5 8.5l.94-2.06 2.06-.94-2.06-.94L8.5 2.5l-.94 2.06-2.06.94zm10 10l.94 2.06.94-2.06 2.06-.94-2.06-.94-.94-2.06-.94 2.06-2.06.94z\"/><path d=\"M17.41 7.96l-1.37-1.37c-.4-.4-.92-.59-1.43-.59-.52 0-1.04.2-1.43.59L10.3 9.45l-7.72 7.72c-.78.78-.78 2.05 0 2.83L4 21.41c.39.39.9.59 1.41.59.51 0 1.02-.2 1.41-.59l7.78-7.78 2.81-2.81c.8-.78.8-2.07 0-2.86zM5.41 20L4 18.59l7.72-7.72 1.47 1.35L5.41 20z\"/>\n",
              "  </svg>\n",
              "      </button>\n",
              "      \n",
              "  <style>\n",
              "    .colab-df-container {\n",
              "      display:flex;\n",
              "      flex-wrap:wrap;\n",
              "      gap: 12px;\n",
              "    }\n",
              "\n",
              "    .colab-df-convert {\n",
              "      background-color: #E8F0FE;\n",
              "      border: none;\n",
              "      border-radius: 50%;\n",
              "      cursor: pointer;\n",
              "      display: none;\n",
              "      fill: #1967D2;\n",
              "      height: 32px;\n",
              "      padding: 0 0 0 0;\n",
              "      width: 32px;\n",
              "    }\n",
              "\n",
              "    .colab-df-convert:hover {\n",
              "      background-color: #E2EBFA;\n",
              "      box-shadow: 0px 1px 2px rgba(60, 64, 67, 0.3), 0px 1px 3px 1px rgba(60, 64, 67, 0.15);\n",
              "      fill: #174EA6;\n",
              "    }\n",
              "\n",
              "    [theme=dark] .colab-df-convert {\n",
              "      background-color: #3B4455;\n",
              "      fill: #D2E3FC;\n",
              "    }\n",
              "\n",
              "    [theme=dark] .colab-df-convert:hover {\n",
              "      background-color: #434B5C;\n",
              "      box-shadow: 0px 1px 3px 1px rgba(0, 0, 0, 0.15);\n",
              "      filter: drop-shadow(0px 1px 2px rgba(0, 0, 0, 0.3));\n",
              "      fill: #FFFFFF;\n",
              "    }\n",
              "  </style>\n",
              "\n",
              "      <script>\n",
              "        const buttonEl =\n",
              "          document.querySelector('#df-7339d964-6254-47f0-a7fb-f333c851756e button.colab-df-convert');\n",
              "        buttonEl.style.display =\n",
              "          google.colab.kernel.accessAllowed ? 'block' : 'none';\n",
              "\n",
              "        async function convertToInteractive(key) {\n",
              "          const element = document.querySelector('#df-7339d964-6254-47f0-a7fb-f333c851756e');\n",
              "          const dataTable =\n",
              "            await google.colab.kernel.invokeFunction('convertToInteractive',\n",
              "                                                     [key], {});\n",
              "          if (!dataTable) return;\n",
              "\n",
              "          const docLinkHtml = 'Like what you see? Visit the ' +\n",
              "            '<a target=\"_blank\" href=https://colab.research.google.com/notebooks/data_table.ipynb>data table notebook</a>'\n",
              "            + ' to learn more about interactive tables.';\n",
              "          element.innerHTML = '';\n",
              "          dataTable['output_type'] = 'display_data';\n",
              "          await google.colab.output.renderOutput(dataTable, element);\n",
              "          const docLink = document.createElement('div');\n",
              "          docLink.innerHTML = docLinkHtml;\n",
              "          element.appendChild(docLink);\n",
              "        }\n",
              "      </script>\n",
              "    </div>\n",
              "  </div>\n",
              "  "
            ],
            "text/plain": [
              "      Request id Pickup point  Driver id             Status  \\\n",
              "2           1807         City        1.0     Trip Completed   \n",
              "4           3112         City        1.0     Trip Completed   \n",
              "6           4270      Airport        1.0     Trip Completed   \n",
              "7           5510      Airport        1.0     Trip Completed   \n",
              "9            267         City        2.0     Trip Completed   \n",
              "...          ...          ...        ...                ...   \n",
              "6307        5863         City        NaN  No Cars Available   \n",
              "6308        5882         City        NaN  No Cars Available   \n",
              "6309        5885         City        NaN  No Cars Available   \n",
              "6310        5881         City        NaN  No Cars Available   \n",
              "6311        5889         City        NaN  No Cars Available   \n",
              "\n",
              "       Request timestamp      Drop timestamp  req_hour  req_day     Time_slot  \n",
              "2    2016-07-12 09:17:00 2016-07-12 09:58:00         9       12  Morning_Rush  \n",
              "4    2016-07-13 08:33:16 2016-07-13 09:25:47         8       13  Morning_Rush  \n",
              "6    2016-07-14 06:15:32 2016-07-14 07:13:15         6       14  Morning_Rush  \n",
              "7    2016-07-15 05:11:52 2016-07-15 06:07:52         5       15  Morning_Rush  \n",
              "9    2016-07-11 06:46:00 2016-07-11 07:25:00         6       11  Morning_Rush  \n",
              "...                  ...                 ...       ...      ...           ...  \n",
              "6307 2016-07-15 09:15:16                 NaT         9       15  Morning_Rush  \n",
              "6308 2016-07-15 09:32:02                 NaT         9       15  Morning_Rush  \n",
              "6309 2016-07-15 09:34:14                 NaT         9       15  Morning_Rush  \n",
              "6310 2016-07-15 09:36:17                 NaT         9       15  Morning_Rush  \n",
              "6311 2016-07-15 09:38:50                 NaT         9       15  Morning_Rush  \n",
              "\n",
              "[2103 rows x 9 columns]"
            ]
          },
          "metadata": {},
          "execution_count": 73
        }
      ]
    },
    {
      "cell_type": "markdown",
      "source": [
        "Ploting Morning rush"
      ],
      "metadata": {
        "id": "HqhXVbcCc6W2"
      }
    },
    {
      "cell_type": "code",
      "source": [
        "sns.countplot(\"Pickup point\",hue=\"Status\",data=df_morning_rush)\n",
        "plt.show()"
      ],
      "metadata": {
        "colab": {
          "base_uri": "https://localhost:8080/",
          "height": 334
        },
        "id": "G3aFfw6mSseu",
        "outputId": "8ae4e49c-44cf-4dfb-b10d-5cd47202c28a"
      },
      "execution_count": null,
      "outputs": [
        {
          "output_type": "stream",
          "name": "stderr",
          "text": [
            "/usr/local/lib/python3.7/dist-packages/seaborn/_decorators.py:43: FutureWarning: Pass the following variable as a keyword arg: x. From version 0.12, the only valid positional argument will be `data`, and passing other arguments without an explicit keyword will result in an error or misinterpretation.\n",
            "  FutureWarning\n"
          ]
        },
        {
          "output_type": "display_data",
          "data": {
            "image/png": "[encoded data removed]",
            "text/plain": [
              "<Figure size 432x288 with 1 Axes>"
            ]
          },
          "metadata": {
            "needs_background": "light"
          }
        }
      ]
    },
    {
      "cell_type": "markdown",
      "source": [
        "**Severity Of Problem By Location And Their Count( CAncelation Of Cab As Per The Pickup Location At Morning Rush Hours)**"
      ],
      "metadata": {
        "id": "8QzN2DyfTzEj"
      }
    },
    {
      "cell_type": "markdown",
      "source": [
        "Tally And Calculating No Of Cancelation In Airport Area"
      ],
      "metadata": {
        "id": "TVUFsCSgdE60"
      }
    },
    {
      "cell_type": "code",
      "source": [
        "df_airport_cancelled=df_morning_rush.loc[(df_morning_rush[\"Pickup point\"]==\"Airport\") & (df_morning_rush[\"Status\"]==\"Cancelled\")]"
      ],
      "metadata": {
        "id": "zBqtKHtxTLW9"
      },
      "execution_count": null,
      "outputs": []
    },
    {
      "cell_type": "code",
      "source": [
        "df_airport_cancelled.shape[0]"
      ],
      "metadata": {
        "colab": {
          "base_uri": "https://localhost:8080/"
        },
        "id": "PFUYFF-fVAtA",
        "outputId": "6ca9138a-36d1-4324-b31e-c96bfb2904ae"
      },
      "execution_count": null,
      "outputs": [
        {
          "output_type": "execute_result",
          "data": {
            "text/plain": [
              "23"
            ]
          },
          "metadata": {},
          "execution_count": 81
        }
      ]
    },
    {
      "cell_type": "markdown",
      "source": [
        "Tally And Calculating No Of Cancelation In City Area"
      ],
      "metadata": {
        "id": "ewBgY5gpdVJL"
      }
    },
    {
      "cell_type": "code",
      "source": [
        "df_city_cancelled=df_morning_rush.loc[(df_morning_rush[\"Pickup point\"]==\"City\") & (df_morning_rush[\"Status\"]==\"Cancelled\")]"
      ],
      "metadata": {
        "id": "RYk1FAYhVrMw"
      },
      "execution_count": null,
      "outputs": []
    },
    {
      "cell_type": "code",
      "source": [
        "df_city_cancelled.shape[0]"
      ],
      "metadata": {
        "colab": {
          "base_uri": "https://localhost:8080/"
        },
        "id": "3FfBuaNuV5f6",
        "outputId": "7bb656ee-bb1a-4a49-f9e0-9393055d911e"
      },
      "execution_count": null,
      "outputs": [
        {
          "output_type": "execute_result",
          "data": {
            "text/plain": [
              "820"
            ]
          },
          "metadata": {},
          "execution_count": 83
        }
      ]
    },
    {
      "cell_type": "markdown",
      "source": [
        "# **Supply And Demand Analysis**"
      ],
      "metadata": {
        "id": "0l4SZr6LWJhb"
      }
    },
    {
      "cell_type": "markdown",
      "source": [
        "### **Analysis In Morning rush in City Area**"
      ],
      "metadata": {
        "id": "rU0-E5bXm9bW"
      }
    },
    {
      "cell_type": "markdown",
      "source": [
        "Demand In Morning Rush in City Area"
      ],
      "metadata": {
        "id": "vTH4ZaBzbkq4"
      }
    },
    {
      "cell_type": "code",
      "source": [
        "df_morning_rush.loc[(df_morning_rush[\"Pickup point\"]==\"City\")].shape[0]"
      ],
      "metadata": {
        "colab": {
          "base_uri": "https://localhost:8080/"
        },
        "id": "eOls_SeQV7af",
        "outputId": "17a7d7ca-e0ad-4b98-f878-db0e795b7759"
      },
      "execution_count": null,
      "outputs": [
        {
          "output_type": "execute_result",
          "data": {
            "text/plain": [
              "1677"
            ]
          },
          "metadata": {},
          "execution_count": 85
        }
      ]
    },
    {
      "cell_type": "markdown",
      "source": [
        "Supply in Morning Rush In City Area"
      ],
      "metadata": {
        "id": "uXoS5X7ebvfV"
      }
    },
    {
      "cell_type": "code",
      "source": [
        "df_morning_rush.loc[(df_morning_rush[\"Pickup point\"]==\"City\") & (df_morning_rush[\"Status\"]==\"Trip Completed\")].shape[0]"
      ],
      "metadata": {
        "colab": {
          "base_uri": "https://localhost:8080/"
        },
        "id": "FlO-EGo6WyYZ",
        "outputId": "2a33a66d-47e5-440e-b502-aaac9e56dc99"
      },
      "execution_count": null,
      "outputs": [
        {
          "output_type": "execute_result",
          "data": {
            "text/plain": [
              "472"
            ]
          },
          "metadata": {},
          "execution_count": 86
        }
      ]
    },
    {
      "cell_type": "markdown",
      "source": [
        "Number Of Trip Got Cancelled In City Area"
      ],
      "metadata": {
        "id": "_AfCnWwxmFVG"
      }
    },
    {
      "cell_type": "code",
      "source": [
        "df_morning_rush.loc[(df_morning_rush[\"Pickup point\"]==\"City\") & (df_morning_rush[\"Status\"]==\"Cancelled\")].shape[0]"
      ],
      "metadata": {
        "colab": {
          "base_uri": "https://localhost:8080/"
        },
        "id": "w8IEg0C5mQDu",
        "outputId": "ddf45bb5-40f2-45e8-bbc5-d8d6aa173937"
      },
      "execution_count": null,
      "outputs": [
        {
          "output_type": "execute_result",
          "data": {
            "text/plain": [
              "820"
            ]
          },
          "metadata": {},
          "execution_count": 113
        }
      ]
    },
    {
      "cell_type": "markdown",
      "source": [
        "Number Of Trip cancelled Due To No Car Available"
      ],
      "metadata": {
        "id": "z7JnnNLEmh-V"
      }
    },
    {
      "cell_type": "code",
      "source": [
        "df_morning_rush.loc[(df_morning_rush[\"Pickup point\"]==\"City\") & (df_morning_rush[\"Status\"]==\"No Cars Available\")].shape[0]"
      ],
      "metadata": {
        "colab": {
          "base_uri": "https://localhost:8080/"
        },
        "id": "Bd3FwHeQmviQ",
        "outputId": "0f449a75-d270-46a5-f935-294a38316b09"
      },
      "execution_count": null,
      "outputs": [
        {
          "output_type": "execute_result",
          "data": {
            "text/plain": [
              "385"
            ]
          },
          "metadata": {},
          "execution_count": 114
        }
      ]
    },
    {
      "cell_type": "markdown",
      "source": [
        "### **Analysis In Morning rush in Airport Area**"
      ],
      "metadata": {
        "id": "02jC9BtwoHlQ"
      }
    },
    {
      "cell_type": "markdown",
      "source": [
        ""
      ],
      "metadata": {
        "id": "K3mdJacToyzj"
      }
    },
    {
      "cell_type": "markdown",
      "source": [
        "Demand In Morning Rush in Airport Area"
      ],
      "metadata": {
        "id": "r2pHahtUcDEg"
      }
    },
    {
      "cell_type": "code",
      "source": [
        "df_morning_rush.loc[(df_morning_rush[\"Pickup point\"]==\"Airport\")].shape[0]"
      ],
      "metadata": {
        "colab": {
          "base_uri": "https://localhost:8080/"
        },
        "id": "N14M6zzkXZee",
        "outputId": "39ddc1bb-2a0f-42da-b0ef-15adf952bba1"
      },
      "execution_count": null,
      "outputs": [
        {
          "output_type": "execute_result",
          "data": {
            "text/plain": [
              "426"
            ]
          },
          "metadata": {},
          "execution_count": 87
        }
      ]
    },
    {
      "cell_type": "markdown",
      "source": [
        "Supply in Morning Rush In Airport Area"
      ],
      "metadata": {
        "id": "2sLdnqX0cIIC"
      }
    },
    {
      "cell_type": "code",
      "source": [
        "df_morning_rush.loc[(df_morning_rush[\"Pickup point\"]==\"Airport\") & (df_morning_rush[\"Status\"]==\"Trip Completed\")].shape[0]"
      ],
      "metadata": {
        "colab": {
          "base_uri": "https://localhost:8080/"
        },
        "id": "JgudaSqkXpx2",
        "outputId": "82e75928-8224-4c32-8888-0437641bd61e"
      },
      "execution_count": null,
      "outputs": [
        {
          "output_type": "execute_result",
          "data": {
            "text/plain": [
              "382"
            ]
          },
          "metadata": {},
          "execution_count": 88
        }
      ]
    },
    {
      "cell_type": "markdown",
      "source": [
        "No Of Cars Got Cancelled In Airport Area"
      ],
      "metadata": {
        "id": "6pIF9kjrnfCq"
      }
    },
    {
      "cell_type": "code",
      "source": [
        "df_morning_rush.loc[(df_morning_rush[\"Pickup point\"]==\"Airport\") & (df_morning_rush[\"Status\"]==\"Cancelled\")].shape[0]"
      ],
      "metadata": {
        "colab": {
          "base_uri": "https://localhost:8080/"
        },
        "id": "vbEwiqu1nu0y",
        "outputId": "2fc71565-423c-437f-f384-578322e74c35"
      },
      "execution_count": null,
      "outputs": [
        {
          "output_type": "execute_result",
          "data": {
            "text/plain": [
              "23"
            ]
          },
          "metadata": {},
          "execution_count": 115
        }
      ]
    },
    {
      "cell_type": "markdown",
      "source": [
        "Number Of Trip cancelled Due To No Car Available"
      ],
      "metadata": {
        "id": "maZH-43VnpHk"
      }
    },
    {
      "cell_type": "code",
      "source": [
        "df_morning_rush.loc[(df_morning_rush[\"Pickup point\"]==\"Airport\") & (df_morning_rush[\"Status\"]==\"No Cars Available\")].shape[0]"
      ],
      "metadata": {
        "colab": {
          "base_uri": "https://localhost:8080/"
        },
        "id": "ipatMWb-n0RU",
        "outputId": "c1ddec7b-8ad4-42e0-b645-043bc8701817"
      },
      "execution_count": null,
      "outputs": [
        {
          "output_type": "execute_result",
          "data": {
            "text/plain": [
              "21"
            ]
          },
          "metadata": {},
          "execution_count": 116
        }
      ]
    },
    {
      "cell_type": "markdown",
      "source": [
        "# **Making A New Dataset For Evening Rush**"
      ],
      "metadata": {
        "id": "kJyXwXXtdiBr"
      }
    },
    {
      "cell_type": "code",
      "source": [
        "df_evening_rush=df[df[\"Time_slot\"]==\"Evening_Rush\"]\n",
        "df_evening_rush"
      ],
      "metadata": {
        "colab": {
          "base_uri": "https://localhost:8080/",
          "height": 424
        },
        "id": "Z0Osl-xXXwL9",
        "outputId": "e36713d2-1c6a-48ab-c75a-2717c36f34ed"
      },
      "execution_count": null,
      "outputs": [
        {
          "output_type": "execute_result",
          "data": {
            "text/html": [
              "\n",
              "  <div id=\"df-5fc55606-1c8e-4235-8c56-473fb59b3f8a\">\n",
              "    <div class=\"colab-df-container\">\n",
              "      <div>\n",
              "<style scoped>\n",
              "    .dataframe tbody tr th:only-of-type {\n",
              "        vertical-align: middle;\n",
              "    }\n",
              "\n",
              "    .dataframe tbody tr th {\n",
              "        vertical-align: top;\n",
              "    }\n",
              "\n",
              "    .dataframe thead th {\n",
              "        text-align: right;\n",
              "    }\n",
              "</style>\n",
              "<table border=\"1\" class=\"dataframe\">\n",
              "  <thead>\n",
              "    <tr style=\"text-align: right;\">\n",
              "      <th></th>\n",
              "      <th>Request id</th>\n",
              "      <th>Pickup point</th>\n",
              "      <th>Driver id</th>\n",
              "      <th>Status</th>\n",
              "      <th>Request timestamp</th>\n",
              "      <th>Drop timestamp</th>\n",
              "      <th>req_hour</th>\n",
              "      <th>req_day</th>\n",
              "      <th>Time_slot</th>\n",
              "    </tr>\n",
              "  </thead>\n",
              "  <tbody>\n",
              "    <tr>\n",
              "      <th>1</th>\n",
              "      <td>867</td>\n",
              "      <td>Airport</td>\n",
              "      <td>1.0</td>\n",
              "      <td>Trip Completed</td>\n",
              "      <td>2016-07-11 17:57:00</td>\n",
              "      <td>2016-07-11 18:47:00</td>\n",
              "      <td>17</td>\n",
              "      <td>11</td>\n",
              "      <td>Evening_Rush</td>\n",
              "    </tr>\n",
              "    <tr>\n",
              "      <th>3</th>\n",
              "      <td>2532</td>\n",
              "      <td>Airport</td>\n",
              "      <td>1.0</td>\n",
              "      <td>Trip Completed</td>\n",
              "      <td>2016-07-12 21:08:00</td>\n",
              "      <td>2016-07-12 22:03:00</td>\n",
              "      <td>21</td>\n",
              "      <td>12</td>\n",
              "      <td>Evening_Rush</td>\n",
              "    </tr>\n",
              "    <tr>\n",
              "      <th>5</th>\n",
              "      <td>3879</td>\n",
              "      <td>Airport</td>\n",
              "      <td>1.0</td>\n",
              "      <td>Trip Completed</td>\n",
              "      <td>2016-07-13 21:57:28</td>\n",
              "      <td>2016-07-13 22:28:59</td>\n",
              "      <td>21</td>\n",
              "      <td>13</td>\n",
              "      <td>Evening_Rush</td>\n",
              "    </tr>\n",
              "    <tr>\n",
              "      <th>8</th>\n",
              "      <td>6248</td>\n",
              "      <td>City</td>\n",
              "      <td>1.0</td>\n",
              "      <td>Trip Completed</td>\n",
              "      <td>2016-07-15 17:57:27</td>\n",
              "      <td>2016-07-15 18:50:51</td>\n",
              "      <td>17</td>\n",
              "      <td>15</td>\n",
              "      <td>Evening_Rush</td>\n",
              "    </tr>\n",
              "    <tr>\n",
              "      <th>15</th>\n",
              "      <td>3482</td>\n",
              "      <td>Airport</td>\n",
              "      <td>2.0</td>\n",
              "      <td>Trip Completed</td>\n",
              "      <td>2016-07-13 17:23:18</td>\n",
              "      <td>2016-07-13 18:20:51</td>\n",
              "      <td>17</td>\n",
              "      <td>13</td>\n",
              "      <td>Evening_Rush</td>\n",
              "    </tr>\n",
              "    <tr>\n",
              "      <th>...</th>\n",
              "      <td>...</td>\n",
              "      <td>...</td>\n",
              "      <td>...</td>\n",
              "      <td>...</td>\n",
              "      <td>...</td>\n",
              "      <td>...</td>\n",
              "      <td>...</td>\n",
              "      <td>...</td>\n",
              "      <td>...</td>\n",
              "    </tr>\n",
              "    <tr>\n",
              "      <th>6685</th>\n",
              "      <td>6625</td>\n",
              "      <td>Airport</td>\n",
              "      <td>NaN</td>\n",
              "      <td>No Cars Available</td>\n",
              "      <td>2016-07-15 21:52:53</td>\n",
              "      <td>NaT</td>\n",
              "      <td>21</td>\n",
              "      <td>15</td>\n",
              "      <td>Evening_Rush</td>\n",
              "    </tr>\n",
              "    <tr>\n",
              "      <th>6686</th>\n",
              "      <td>6629</td>\n",
              "      <td>Airport</td>\n",
              "      <td>NaN</td>\n",
              "      <td>No Cars Available</td>\n",
              "      <td>2016-07-15 21:53:37</td>\n",
              "      <td>NaT</td>\n",
              "      <td>21</td>\n",
              "      <td>15</td>\n",
              "      <td>Evening_Rush</td>\n",
              "    </tr>\n",
              "    <tr>\n",
              "      <th>6687</th>\n",
              "      <td>6628</td>\n",
              "      <td>Airport</td>\n",
              "      <td>NaN</td>\n",
              "      <td>No Cars Available</td>\n",
              "      <td>2016-07-15 21:54:21</td>\n",
              "      <td>NaT</td>\n",
              "      <td>21</td>\n",
              "      <td>15</td>\n",
              "      <td>Evening_Rush</td>\n",
              "    </tr>\n",
              "    <tr>\n",
              "      <th>6688</th>\n",
              "      <td>6624</td>\n",
              "      <td>Airport</td>\n",
              "      <td>NaN</td>\n",
              "      <td>No Cars Available</td>\n",
              "      <td>2016-07-15 21:56:00</td>\n",
              "      <td>NaT</td>\n",
              "      <td>21</td>\n",
              "      <td>15</td>\n",
              "      <td>Evening_Rush</td>\n",
              "    </tr>\n",
              "    <tr>\n",
              "      <th>6689</th>\n",
              "      <td>6632</td>\n",
              "      <td>Airport</td>\n",
              "      <td>NaN</td>\n",
              "      <td>No Cars Available</td>\n",
              "      <td>2016-07-15 21:59:40</td>\n",
              "      <td>NaT</td>\n",
              "      <td>21</td>\n",
              "      <td>15</td>\n",
              "      <td>Evening_Rush</td>\n",
              "    </tr>\n",
              "  </tbody>\n",
              "</table>\n",
              "<p>2342 rows × 9 columns</p>\n",
              "</div>\n",
              "      <button class=\"colab-df-convert\" onclick=\"convertToInteractive('df-5fc55606-1c8e-4235-8c56-473fb59b3f8a')\"\n",
              "              title=\"Convert this dataframe to an interactive table.\"\n",
              "              style=\"display:none;\">\n",
              "        \n",
              "  <svg xmlns=\"http://www.w3.org/2000/svg\" height=\"24px\"viewBox=\"0 0 24 24\"\n",
              "       width=\"24px\">\n",
              "    <path d=\"M0 0h24v24H0V0z\" fill=\"none\"/>\n",
              "    <path d=\"M18.56 5.44l.94 2.06.94-2.06 2.06-.94-2.06-.94-.94-2.06-.94 2.06-2.06.94zm-11 1L8.5 8.5l.94-2.06 2.06-.94-2.06-.94L8.5 2.5l-.94 2.06-2.06.94zm10 10l.94 2.06.94-2.06 2.06-.94-2.06-.94-.94-2.06-.94 2.06-2.06.94z\"/><path d=\"M17.41 7.96l-1.37-1.37c-.4-.4-.92-.59-1.43-.59-.52 0-1.04.2-1.43.59L10.3 9.45l-7.72 7.72c-.78.78-.78 2.05 0 2.83L4 21.41c.39.39.9.59 1.41.59.51 0 1.02-.2 1.41-.59l7.78-7.78 2.81-2.81c.8-.78.8-2.07 0-2.86zM5.41 20L4 18.59l7.72-7.72 1.47 1.35L5.41 20z\"/>\n",
              "  </svg>\n",
              "      </button>\n",
              "      \n",
              "  <style>\n",
              "    .colab-df-container {\n",
              "      display:flex;\n",
              "      flex-wrap:wrap;\n",
              "      gap: 12px;\n",
              "    }\n",
              "\n",
              "    .colab-df-convert {\n",
              "      background-color: #E8F0FE;\n",
              "      border: none;\n",
              "      border-radius: 50%;\n",
              "      cursor: pointer;\n",
              "      display: none;\n",
              "      fill: #1967D2;\n",
              "      height: 32px;\n",
              "      padding: 0 0 0 0;\n",
              "      width: 32px;\n",
              "    }\n",
              "\n",
              "    .colab-df-convert:hover {\n",
              "      background-color: #E2EBFA;\n",
              "      box-shadow: 0px 1px 2px rgba(60, 64, 67, 0.3), 0px 1px 3px 1px rgba(60, 64, 67, 0.15);\n",
              "      fill: #174EA6;\n",
              "    }\n",
              "\n",
              "    [theme=dark] .colab-df-convert {\n",
              "      background-color: #3B4455;\n",
              "      fill: #D2E3FC;\n",
              "    }\n",
              "\n",
              "    [theme=dark] .colab-df-convert:hover {\n",
              "      background-color: #434B5C;\n",
              "      box-shadow: 0px 1px 3px 1px rgba(0, 0, 0, 0.15);\n",
              "      filter: drop-shadow(0px 1px 2px rgba(0, 0, 0, 0.3));\n",
              "      fill: #FFFFFF;\n",
              "    }\n",
              "  </style>\n",
              "\n",
              "      <script>\n",
              "        const buttonEl =\n",
              "          document.querySelector('#df-5fc55606-1c8e-4235-8c56-473fb59b3f8a button.colab-df-convert');\n",
              "        buttonEl.style.display =\n",
              "          google.colab.kernel.accessAllowed ? 'block' : 'none';\n",
              "\n",
              "        async function convertToInteractive(key) {\n",
              "          const element = document.querySelector('#df-5fc55606-1c8e-4235-8c56-473fb59b3f8a');\n",
              "          const dataTable =\n",
              "            await google.colab.kernel.invokeFunction('convertToInteractive',\n",
              "                                                     [key], {});\n",
              "          if (!dataTable) return;\n",
              "\n",
              "          const docLinkHtml = 'Like what you see? Visit the ' +\n",
              "            '<a target=\"_blank\" href=https://colab.research.google.com/notebooks/data_table.ipynb>data table notebook</a>'\n",
              "            + ' to learn more about interactive tables.';\n",
              "          element.innerHTML = '';\n",
              "          dataTable['output_type'] = 'display_data';\n",
              "          await google.colab.output.renderOutput(dataTable, element);\n",
              "          const docLink = document.createElement('div');\n",
              "          docLink.innerHTML = docLinkHtml;\n",
              "          element.appendChild(docLink);\n",
              "        }\n",
              "      </script>\n",
              "    </div>\n",
              "  </div>\n",
              "  "
            ],
            "text/plain": [
              "      Request id Pickup point  Driver id             Status  \\\n",
              "1            867      Airport        1.0     Trip Completed   \n",
              "3           2532      Airport        1.0     Trip Completed   \n",
              "5           3879      Airport        1.0     Trip Completed   \n",
              "8           6248         City        1.0     Trip Completed   \n",
              "15          3482      Airport        2.0     Trip Completed   \n",
              "...          ...          ...        ...                ...   \n",
              "6685        6625      Airport        NaN  No Cars Available   \n",
              "6686        6629      Airport        NaN  No Cars Available   \n",
              "6687        6628      Airport        NaN  No Cars Available   \n",
              "6688        6624      Airport        NaN  No Cars Available   \n",
              "6689        6632      Airport        NaN  No Cars Available   \n",
              "\n",
              "       Request timestamp      Drop timestamp  req_hour  req_day     Time_slot  \n",
              "1    2016-07-11 17:57:00 2016-07-11 18:47:00        17       11  Evening_Rush  \n",
              "3    2016-07-12 21:08:00 2016-07-12 22:03:00        21       12  Evening_Rush  \n",
              "5    2016-07-13 21:57:28 2016-07-13 22:28:59        21       13  Evening_Rush  \n",
              "8    2016-07-15 17:57:27 2016-07-15 18:50:51        17       15  Evening_Rush  \n",
              "15   2016-07-13 17:23:18 2016-07-13 18:20:51        17       13  Evening_Rush  \n",
              "...                  ...                 ...       ...      ...           ...  \n",
              "6685 2016-07-15 21:52:53                 NaT        21       15  Evening_Rush  \n",
              "6686 2016-07-15 21:53:37                 NaT        21       15  Evening_Rush  \n",
              "6687 2016-07-15 21:54:21                 NaT        21       15  Evening_Rush  \n",
              "6688 2016-07-15 21:56:00                 NaT        21       15  Evening_Rush  \n",
              "6689 2016-07-15 21:59:40                 NaT        21       15  Evening_Rush  \n",
              "\n",
              "[2342 rows x 9 columns]"
            ]
          },
          "metadata": {},
          "execution_count": 89
        }
      ]
    },
    {
      "cell_type": "code",
      "source": [
        "df_city_cancelled=df_evening_rush.loc[(df_evening_rush[\"Pickup point\"]==\"City\") & (df_evening_rush[\"Status\"]==\"Cancelled\")]\n",
        "df_city_cancelled.shape[0]"
      ],
      "metadata": {
        "colab": {
          "base_uri": "https://localhost:8080/"
        },
        "id": "D1TMxgdLYEKd",
        "outputId": "fdab650d-a0f9-4a01-f75c-392cc42b3c0e"
      },
      "execution_count": null,
      "outputs": [
        {
          "output_type": "execute_result",
          "data": {
            "text/plain": [
              "60"
            ]
          },
          "metadata": {},
          "execution_count": 107
        }
      ]
    },
    {
      "cell_type": "markdown",
      "source": [
        "Ploting Evening Rush"
      ],
      "metadata": {
        "id": "Yg6GEs0ndtab"
      }
    },
    {
      "cell_type": "code",
      "source": [
        "sns.countplot(\"Pickup point\",hue=\"Status\",data=df_evening_rush)\n",
        "plt.show()"
      ],
      "metadata": {
        "colab": {
          "base_uri": "https://localhost:8080/",
          "height": 334
        },
        "id": "O56nhrFsY3VL",
        "outputId": "f8e57dea-9dde-413a-cba8-9c3c1054876a"
      },
      "execution_count": null,
      "outputs": [
        {
          "output_type": "stream",
          "name": "stderr",
          "text": [
            "/usr/local/lib/python3.7/dist-packages/seaborn/_decorators.py:43: FutureWarning: Pass the following variable as a keyword arg: x. From version 0.12, the only valid positional argument will be `data`, and passing other arguments without an explicit keyword will result in an error or misinterpretation.\n",
            "  FutureWarning\n"
          ]
        },
        {
          "output_type": "display_data",
          "data": {
            "image/png": "[encoded data removed]",
            "text/plain": [
              "<Figure size 432x288 with 1 Axes>"
            ]
          },
          "metadata": {
            "needs_background": "light"
          }
        }
      ]
    },
    {
      "cell_type": "markdown",
      "source": [
        "Tally And Calculating No Of Cancelation In Airport Area"
      ],
      "metadata": {
        "id": "84K0Z9SZfnAX"
      }
    },
    {
      "cell_type": "code",
      "source": [
        "df_airport_cancelled=df_evening_rush.loc[(df_evening_rush[\"Pickup point\"]==\"Airport\") & (df_evening_rush[\"Status\"]==\"Cancelled\")]\n",
        "df_airport_cancelled.shape[0]"
      ],
      "metadata": {
        "colab": {
          "base_uri": "https://localhost:8080/"
        },
        "id": "6rd9GJLxfrYR",
        "outputId": "f6d9023c-3633-4c4b-baf1-36fdbdd8911c"
      },
      "execution_count": null,
      "outputs": [
        {
          "output_type": "execute_result",
          "data": {
            "text/plain": [
              "106"
            ]
          },
          "metadata": {},
          "execution_count": 110
        }
      ]
    },
    {
      "cell_type": "markdown",
      "source": [
        "Tally And Calculating No Of Cancelation In City Area"
      ],
      "metadata": {
        "id": "seeD-W0qfbxf"
      }
    },
    {
      "cell_type": "code",
      "source": [
        "df_city_cancelled=df_evening_rush.loc[(df_evening_rush[\"Pickup point\"]==\"City\") & (df_evening_rush[\"Status\"]==\"Cancelled\")]\n",
        "df_city_cancelled.shape[0]"
      ],
      "metadata": {
        "colab": {
          "base_uri": "https://localhost:8080/"
        },
        "id": "vpiaR12JfaQc",
        "outputId": "b8a708b0-997b-45cd-bee6-bb75b35bfc21"
      },
      "execution_count": null,
      "outputs": [
        {
          "output_type": "execute_result",
          "data": {
            "text/plain": [
              "60"
            ]
          },
          "metadata": {},
          "execution_count": 108
        }
      ]
    },
    {
      "cell_type": "markdown",
      "source": [
        "## **Analysis In Evening rush in City Area**"
      ],
      "metadata": {
        "id": "5xMhpYVIoieh"
      }
    },
    {
      "cell_type": "markdown",
      "source": [
        "Demand In Evening Rush in City Area"
      ],
      "metadata": {
        "id": "LnDKK9whehSn"
      }
    },
    {
      "cell_type": "code",
      "source": [
        "df_evening_rush.loc[(df_evening_rush[\"Pickup point\"]==\"City\")].shape[0]"
      ],
      "metadata": {
        "colab": {
          "base_uri": "https://localhost:8080/"
        },
        "id": "OCFLsQ3fZrtm",
        "outputId": "22598af3-e630-4028-8f65-cb50998b2e58"
      },
      "execution_count": null,
      "outputs": [
        {
          "output_type": "execute_result",
          "data": {
            "text/plain": [
              "542"
            ]
          },
          "metadata": {},
          "execution_count": 97
        }
      ]
    },
    {
      "cell_type": "markdown",
      "source": [
        "Supply In Evening rush In City Area"
      ],
      "metadata": {
        "id": "WOBKsMYxelEj"
      }
    },
    {
      "cell_type": "code",
      "source": [
        "df_evening_rush.loc[(df_evening_rush[\"Pickup point\"]==\"City\") & (df_evening_rush[\"Status\"]==\"Trip Completed\")].shape[0]"
      ],
      "metadata": {
        "colab": {
          "base_uri": "https://localhost:8080/"
        },
        "id": "x-_mjsAcaY40",
        "outputId": "7f84f450-c5f2-4110-876f-97a36f03fc1a"
      },
      "execution_count": null,
      "outputs": [
        {
          "output_type": "execute_result",
          "data": {
            "text/plain": [
              "411"
            ]
          },
          "metadata": {},
          "execution_count": 100
        }
      ]
    },
    {
      "cell_type": "markdown",
      "source": [
        "Number Of Cancellation In City Area"
      ],
      "metadata": {
        "id": "_W9sBzxBpaYz"
      }
    },
    {
      "cell_type": "code",
      "source": [
        "df_evening_rush.loc[(df_evening_rush[\"Pickup point\"]==\"City\") & (df_evening_rush[\"Status\"]==\"Cancelled\")].shape[0]"
      ],
      "metadata": {
        "colab": {
          "base_uri": "https://localhost:8080/"
        },
        "id": "67GFaUESphUF",
        "outputId": "1dee4ec8-19a3-40c0-d84c-73a8b2b28a39"
      },
      "execution_count": null,
      "outputs": [
        {
          "output_type": "execute_result",
          "data": {
            "text/plain": [
              "60"
            ]
          },
          "metadata": {},
          "execution_count": 117
        }
      ]
    },
    {
      "cell_type": "markdown",
      "source": [
        "Number Of CAncellation Due To No Cars Available In City Area"
      ],
      "metadata": {
        "id": "el3pmx3Upyvd"
      }
    },
    {
      "cell_type": "code",
      "source": [
        "df_evening_rush.loc[(df_evening_rush[\"Pickup point\"]==\"City\") & (df_evening_rush[\"Status\"]==\"No Cars Available\")].shape[0]"
      ],
      "metadata": {
        "colab": {
          "base_uri": "https://localhost:8080/"
        },
        "id": "PSJM7_5tp6oG",
        "outputId": "a2920884-ca5c-4925-8b89-26381f58ce26"
      },
      "execution_count": null,
      "outputs": [
        {
          "output_type": "execute_result",
          "data": {
            "text/plain": [
              "71"
            ]
          },
          "metadata": {},
          "execution_count": 119
        }
      ]
    },
    {
      "cell_type": "markdown",
      "source": [
        "### **Analysis In Evening Rush In Airport Area**"
      ],
      "metadata": {
        "id": "KDb7Lj-0qXMJ"
      }
    },
    {
      "cell_type": "markdown",
      "source": [
        "Demand In Evening Rush In Airport Area"
      ],
      "metadata": {
        "id": "9yWKcjwhewRA"
      }
    },
    {
      "cell_type": "code",
      "source": [
        "df_evening_rush.loc[(df_evening_rush[\"Pickup point\"]==\"Airport\")].shape[0]"
      ],
      "metadata": {
        "colab": {
          "base_uri": "https://localhost:8080/"
        },
        "id": "Q7y_UX1RaqfX",
        "outputId": "9434b7f1-4b96-4f80-c3ea-7ade84000673"
      },
      "execution_count": null,
      "outputs": [
        {
          "output_type": "execute_result",
          "data": {
            "text/plain": [
              "1800"
            ]
          },
          "metadata": {},
          "execution_count": 101
        }
      ]
    },
    {
      "cell_type": "markdown",
      "source": [
        "Supply in Evening rush In Airport Area"
      ],
      "metadata": {
        "id": "beE8paREe5Yi"
      }
    },
    {
      "cell_type": "code",
      "source": [
        "df_evening_rush.loc[(df_evening_rush[\"Pickup point\"]==\"Airport\") & (df_evening_rush[\"Status\"]==\"Trip Completed\")].shape[0]"
      ],
      "metadata": {
        "colab": {
          "base_uri": "https://localhost:8080/"
        },
        "id": "BIghoYRfa_UR",
        "outputId": "4647981f-8d3d-4829-9249-037a4800a293"
      },
      "execution_count": null,
      "outputs": [
        {
          "output_type": "execute_result",
          "data": {
            "text/plain": [
              "373"
            ]
          },
          "metadata": {},
          "execution_count": 102
        }
      ]
    },
    {
      "cell_type": "markdown",
      "source": [
        "Number Of Cancellation In Airport Area"
      ],
      "metadata": {
        "id": "-F0g_xZeqk3j"
      }
    },
    {
      "cell_type": "code",
      "source": [
        "df_evening_rush.loc[(df_evening_rush[\"Pickup point\"]==\"Airport\") & (df_evening_rush[\"Status\"]==\"Cancelled\")].shape[0]"
      ],
      "metadata": {
        "colab": {
          "base_uri": "https://localhost:8080/"
        },
        "id": "sx-XDOg6q0R-",
        "outputId": "9b1a0c3e-595d-4f83-ace9-0aa51dde8174"
      },
      "execution_count": null,
      "outputs": [
        {
          "output_type": "execute_result",
          "data": {
            "text/plain": [
              "106"
            ]
          },
          "metadata": {},
          "execution_count": 120
        }
      ]
    },
    {
      "cell_type": "markdown",
      "source": [
        "Number Of CAncellation Due To No Cars Available In Airport Area"
      ],
      "metadata": {
        "id": "aYf7xNU_qmQZ"
      }
    },
    {
      "cell_type": "code",
      "source": [
        "df_evening_rush.loc[(df_evening_rush[\"Pickup point\"]==\"Airport\") & (df_evening_rush[\"Status\"]==\"No Cars Available\")].shape[0]"
      ],
      "metadata": {
        "colab": {
          "base_uri": "https://localhost:8080/"
        },
        "id": "eeiMn7xFqzdF",
        "outputId": "6334fd60-1d53-4c3a-efae-6fd727f300e4"
      },
      "execution_count": null,
      "outputs": [
        {
          "output_type": "execute_result",
          "data": {
            "text/plain": [
              "1321"
            ]
          },
          "metadata": {},
          "execution_count": 121
        }
      ]
    },
    {
      "cell_type": "markdown",
      "source": [
        "# **Making Another Dataset**"
      ],
      "metadata": {
        "id": "P6OAy7PKrzvC"
      }
    },
    {
      "cell_type": "code",
      "source": [
        "df_morning_city=df.loc[(df[\"Pickup point\"]==\"City\") & (df[\"Time_slot\"]==\"Morning_Rush\")]\n",
        "df_morning_city"
      ],
      "metadata": {
        "colab": {
          "base_uri": "https://localhost:8080/",
          "height": 424
        },
        "id": "690aCtdurwvu",
        "outputId": "2150deb9-d95d-4b85-889d-2f5eb6b42975"
      },
      "execution_count": null,
      "outputs": [
        {
          "output_type": "execute_result",
          "data": {
            "text/html": [
              "\n",
              "  <div id=\"df-cbdfecd7-d181-4bd4-8f7c-9639821a1c5c\">\n",
              "    <div class=\"colab-df-container\">\n",
              "      <div>\n",
              "<style scoped>\n",
              "    .dataframe tbody tr th:only-of-type {\n",
              "        vertical-align: middle;\n",
              "    }\n",
              "\n",
              "    .dataframe tbody tr th {\n",
              "        vertical-align: top;\n",
              "    }\n",
              "\n",
              "    .dataframe thead th {\n",
              "        text-align: right;\n",
              "    }\n",
              "</style>\n",
              "<table border=\"1\" class=\"dataframe\">\n",
              "  <thead>\n",
              "    <tr style=\"text-align: right;\">\n",
              "      <th></th>\n",
              "      <th>Request id</th>\n",
              "      <th>Pickup point</th>\n",
              "      <th>Driver id</th>\n",
              "      <th>Status</th>\n",
              "      <th>Request timestamp</th>\n",
              "      <th>Drop timestamp</th>\n",
              "      <th>req_hour</th>\n",
              "      <th>req_day</th>\n",
              "      <th>Time_slot</th>\n",
              "    </tr>\n",
              "  </thead>\n",
              "  <tbody>\n",
              "    <tr>\n",
              "      <th>2</th>\n",
              "      <td>1807</td>\n",
              "      <td>City</td>\n",
              "      <td>1.0</td>\n",
              "      <td>Trip Completed</td>\n",
              "      <td>2016-07-12 09:17:00</td>\n",
              "      <td>2016-07-12 09:58:00</td>\n",
              "      <td>9</td>\n",
              "      <td>12</td>\n",
              "      <td>Morning_Rush</td>\n",
              "    </tr>\n",
              "    <tr>\n",
              "      <th>4</th>\n",
              "      <td>3112</td>\n",
              "      <td>City</td>\n",
              "      <td>1.0</td>\n",
              "      <td>Trip Completed</td>\n",
              "      <td>2016-07-13 08:33:16</td>\n",
              "      <td>2016-07-13 09:25:47</td>\n",
              "      <td>8</td>\n",
              "      <td>13</td>\n",
              "      <td>Morning_Rush</td>\n",
              "    </tr>\n",
              "    <tr>\n",
              "      <th>9</th>\n",
              "      <td>267</td>\n",
              "      <td>City</td>\n",
              "      <td>2.0</td>\n",
              "      <td>Trip Completed</td>\n",
              "      <td>2016-07-11 06:46:00</td>\n",
              "      <td>2016-07-11 07:25:00</td>\n",
              "      <td>6</td>\n",
              "      <td>11</td>\n",
              "      <td>Morning_Rush</td>\n",
              "    </tr>\n",
              "    <tr>\n",
              "      <th>13</th>\n",
              "      <td>3075</td>\n",
              "      <td>City</td>\n",
              "      <td>2.0</td>\n",
              "      <td>Trip Completed</td>\n",
              "      <td>2016-07-13 08:02:53</td>\n",
              "      <td>2016-07-13 09:16:19</td>\n",
              "      <td>8</td>\n",
              "      <td>13</td>\n",
              "      <td>Morning_Rush</td>\n",
              "    </tr>\n",
              "    <tr>\n",
              "      <th>30</th>\n",
              "      <td>1826</td>\n",
              "      <td>City</td>\n",
              "      <td>4.0</td>\n",
              "      <td>Trip Completed</td>\n",
              "      <td>2016-07-12 09:27:00</td>\n",
              "      <td>2016-07-12 10:27:00</td>\n",
              "      <td>9</td>\n",
              "      <td>12</td>\n",
              "      <td>Morning_Rush</td>\n",
              "    </tr>\n",
              "    <tr>\n",
              "      <th>...</th>\n",
              "      <td>...</td>\n",
              "      <td>...</td>\n",
              "      <td>...</td>\n",
              "      <td>...</td>\n",
              "      <td>...</td>\n",
              "      <td>...</td>\n",
              "      <td>...</td>\n",
              "      <td>...</td>\n",
              "      <td>...</td>\n",
              "    </tr>\n",
              "    <tr>\n",
              "      <th>6307</th>\n",
              "      <td>5863</td>\n",
              "      <td>City</td>\n",
              "      <td>NaN</td>\n",
              "      <td>No Cars Available</td>\n",
              "      <td>2016-07-15 09:15:16</td>\n",
              "      <td>NaT</td>\n",
              "      <td>9</td>\n",
              "      <td>15</td>\n",
              "      <td>Morning_Rush</td>\n",
              "    </tr>\n",
              "    <tr>\n",
              "      <th>6308</th>\n",
              "      <td>5882</td>\n",
              "      <td>City</td>\n",
              "      <td>NaN</td>\n",
              "      <td>No Cars Available</td>\n",
              "      <td>2016-07-15 09:32:02</td>\n",
              "      <td>NaT</td>\n",
              "      <td>9</td>\n",
              "      <td>15</td>\n",
              "      <td>Morning_Rush</td>\n",
              "    </tr>\n",
              "    <tr>\n",
              "      <th>6309</th>\n",
              "      <td>5885</td>\n",
              "      <td>City</td>\n",
              "      <td>NaN</td>\n",
              "      <td>No Cars Available</td>\n",
              "      <td>2016-07-15 09:34:14</td>\n",
              "      <td>NaT</td>\n",
              "      <td>9</td>\n",
              "      <td>15</td>\n",
              "      <td>Morning_Rush</td>\n",
              "    </tr>\n",
              "    <tr>\n",
              "      <th>6310</th>\n",
              "      <td>5881</td>\n",
              "      <td>City</td>\n",
              "      <td>NaN</td>\n",
              "      <td>No Cars Available</td>\n",
              "      <td>2016-07-15 09:36:17</td>\n",
              "      <td>NaT</td>\n",
              "      <td>9</td>\n",
              "      <td>15</td>\n",
              "      <td>Morning_Rush</td>\n",
              "    </tr>\n",
              "    <tr>\n",
              "      <th>6311</th>\n",
              "      <td>5889</td>\n",
              "      <td>City</td>\n",
              "      <td>NaN</td>\n",
              "      <td>No Cars Available</td>\n",
              "      <td>2016-07-15 09:38:50</td>\n",
              "      <td>NaT</td>\n",
              "      <td>9</td>\n",
              "      <td>15</td>\n",
              "      <td>Morning_Rush</td>\n",
              "    </tr>\n",
              "  </tbody>\n",
              "</table>\n",
              "<p>1677 rows × 9 columns</p>\n",
              "</div>\n",
              "      <button class=\"colab-df-convert\" onclick=\"convertToInteractive('df-cbdfecd7-d181-4bd4-8f7c-9639821a1c5c')\"\n",
              "              title=\"Convert this dataframe to an interactive table.\"\n",
              "              style=\"display:none;\">\n",
              "        \n",
              "  <svg xmlns=\"http://www.w3.org/2000/svg\" height=\"24px\"viewBox=\"0 0 24 24\"\n",
              "       width=\"24px\">\n",
              "    <path d=\"M0 0h24v24H0V0z\" fill=\"none\"/>\n",
              "    <path d=\"M18.56 5.44l.94 2.06.94-2.06 2.06-.94-2.06-.94-.94-2.06-.94 2.06-2.06.94zm-11 1L8.5 8.5l.94-2.06 2.06-.94-2.06-.94L8.5 2.5l-.94 2.06-2.06.94zm10 10l.94 2.06.94-2.06 2.06-.94-2.06-.94-.94-2.06-.94 2.06-2.06.94z\"/><path d=\"M17.41 7.96l-1.37-1.37c-.4-.4-.92-.59-1.43-.59-.52 0-1.04.2-1.43.59L10.3 9.45l-7.72 7.72c-.78.78-.78 2.05 0 2.83L4 21.41c.39.39.9.59 1.41.59.51 0 1.02-.2 1.41-.59l7.78-7.78 2.81-2.81c.8-.78.8-2.07 0-2.86zM5.41 20L4 18.59l7.72-7.72 1.47 1.35L5.41 20z\"/>\n",
              "  </svg>\n",
              "      </button>\n",
              "      \n",
              "  <style>\n",
              "    .colab-df-container {\n",
              "      display:flex;\n",
              "      flex-wrap:wrap;\n",
              "      gap: 12px;\n",
              "    }\n",
              "\n",
              "    .colab-df-convert {\n",
              "      background-color: #E8F0FE;\n",
              "      border: none;\n",
              "      border-radius: 50%;\n",
              "      cursor: pointer;\n",
              "      display: none;\n",
              "      fill: #1967D2;\n",
              "      height: 32px;\n",
              "      padding: 0 0 0 0;\n",
              "      width: 32px;\n",
              "    }\n",
              "\n",
              "    .colab-df-convert:hover {\n",
              "      background-color: #E2EBFA;\n",
              "      box-shadow: 0px 1px 2px rgba(60, 64, 67, 0.3), 0px 1px 3px 1px rgba(60, 64, 67, 0.15);\n",
              "      fill: #174EA6;\n",
              "    }\n",
              "\n",
              "    [theme=dark] .colab-df-convert {\n",
              "      background-color: #3B4455;\n",
              "      fill: #D2E3FC;\n",
              "    }\n",
              "\n",
              "    [theme=dark] .colab-df-convert:hover {\n",
              "      background-color: #434B5C;\n",
              "      box-shadow: 0px 1px 3px 1px rgba(0, 0, 0, 0.15);\n",
              "      filter: drop-shadow(0px 1px 2px rgba(0, 0, 0, 0.3));\n",
              "      fill: #FFFFFF;\n",
              "    }\n",
              "  </style>\n",
              "\n",
              "      <script>\n",
              "        const buttonEl =\n",
              "          document.querySelector('#df-cbdfecd7-d181-4bd4-8f7c-9639821a1c5c button.colab-df-convert');\n",
              "        buttonEl.style.display =\n",
              "          google.colab.kernel.accessAllowed ? 'block' : 'none';\n",
              "\n",
              "        async function convertToInteractive(key) {\n",
              "          const element = document.querySelector('#df-cbdfecd7-d181-4bd4-8f7c-9639821a1c5c');\n",
              "          const dataTable =\n",
              "            await google.colab.kernel.invokeFunction('convertToInteractive',\n",
              "                                                     [key], {});\n",
              "          if (!dataTable) return;\n",
              "\n",
              "          const docLinkHtml = 'Like what you see? Visit the ' +\n",
              "            '<a target=\"_blank\" href=https://colab.research.google.com/notebooks/data_table.ipynb>data table notebook</a>'\n",
              "            + ' to learn more about interactive tables.';\n",
              "          element.innerHTML = '';\n",
              "          dataTable['output_type'] = 'display_data';\n",
              "          await google.colab.output.renderOutput(dataTable, element);\n",
              "          const docLink = document.createElement('div');\n",
              "          docLink.innerHTML = docLinkHtml;\n",
              "          element.appendChild(docLink);\n",
              "        }\n",
              "      </script>\n",
              "    </div>\n",
              "  </div>\n",
              "  "
            ],
            "text/plain": [
              "      Request id Pickup point  Driver id             Status  \\\n",
              "2           1807         City        1.0     Trip Completed   \n",
              "4           3112         City        1.0     Trip Completed   \n",
              "9            267         City        2.0     Trip Completed   \n",
              "13          3075         City        2.0     Trip Completed   \n",
              "30          1826         City        4.0     Trip Completed   \n",
              "...          ...          ...        ...                ...   \n",
              "6307        5863         City        NaN  No Cars Available   \n",
              "6308        5882         City        NaN  No Cars Available   \n",
              "6309        5885         City        NaN  No Cars Available   \n",
              "6310        5881         City        NaN  No Cars Available   \n",
              "6311        5889         City        NaN  No Cars Available   \n",
              "\n",
              "       Request timestamp      Drop timestamp  req_hour  req_day     Time_slot  \n",
              "2    2016-07-12 09:17:00 2016-07-12 09:58:00         9       12  Morning_Rush  \n",
              "4    2016-07-13 08:33:16 2016-07-13 09:25:47         8       13  Morning_Rush  \n",
              "9    2016-07-11 06:46:00 2016-07-11 07:25:00         6       11  Morning_Rush  \n",
              "13   2016-07-13 08:02:53 2016-07-13 09:16:19         8       13  Morning_Rush  \n",
              "30   2016-07-12 09:27:00 2016-07-12 10:27:00         9       12  Morning_Rush  \n",
              "...                  ...                 ...       ...      ...           ...  \n",
              "6307 2016-07-15 09:15:16                 NaT         9       15  Morning_Rush  \n",
              "6308 2016-07-15 09:32:02                 NaT         9       15  Morning_Rush  \n",
              "6309 2016-07-15 09:34:14                 NaT         9       15  Morning_Rush  \n",
              "6310 2016-07-15 09:36:17                 NaT         9       15  Morning_Rush  \n",
              "6311 2016-07-15 09:38:50                 NaT         9       15  Morning_Rush  \n",
              "\n",
              "[1677 rows x 9 columns]"
            ]
          },
          "metadata": {},
          "execution_count": 131
        }
      ]
    },
    {
      "cell_type": "markdown",
      "source": [
        "Converting To New Data Frame"
      ],
      "metadata": {
        "id": "WjTzwkbytprm"
      }
    },
    {
      "cell_type": "code",
      "source": [
        "df_morning_city_count=pd.DataFrame(df_morning_city[\"Status\"].value_counts())\n",
        "df_morning_city_count "
      ],
      "metadata": {
        "colab": {
          "base_uri": "https://localhost:8080/",
          "height": 143
        },
        "id": "q0jbB9nAshxi",
        "outputId": "ec3e0ccb-f426-4972-8d4f-73b4cf591489"
      },
      "execution_count": null,
      "outputs": [
        {
          "output_type": "execute_result",
          "data": {
            "text/html": [
              "\n",
              "  <div id=\"df-be5a6103-29ad-4b06-b2ff-b0e14088fc19\">\n",
              "    <div class=\"colab-df-container\">\n",
              "      <div>\n",
              "<style scoped>\n",
              "    .dataframe tbody tr th:only-of-type {\n",
              "        vertical-align: middle;\n",
              "    }\n",
              "\n",
              "    .dataframe tbody tr th {\n",
              "        vertical-align: top;\n",
              "    }\n",
              "\n",
              "    .dataframe thead th {\n",
              "        text-align: right;\n",
              "    }\n",
              "</style>\n",
              "<table border=\"1\" class=\"dataframe\">\n",
              "  <thead>\n",
              "    <tr style=\"text-align: right;\">\n",
              "      <th></th>\n",
              "      <th>Status</th>\n",
              "    </tr>\n",
              "  </thead>\n",
              "  <tbody>\n",
              "    <tr>\n",
              "      <th>Cancelled</th>\n",
              "      <td>820</td>\n",
              "    </tr>\n",
              "    <tr>\n",
              "      <th>Trip Completed</th>\n",
              "      <td>472</td>\n",
              "    </tr>\n",
              "    <tr>\n",
              "      <th>No Cars Available</th>\n",
              "      <td>385</td>\n",
              "    </tr>\n",
              "  </tbody>\n",
              "</table>\n",
              "</div>\n",
              "      <button class=\"colab-df-convert\" onclick=\"convertToInteractive('df-be5a6103-29ad-4b06-b2ff-b0e14088fc19')\"\n",
              "              title=\"Convert this dataframe to an interactive table.\"\n",
              "              style=\"display:none;\">\n",
              "        \n",
              "  <svg xmlns=\"http://www.w3.org/2000/svg\" height=\"24px\"viewBox=\"0 0 24 24\"\n",
              "       width=\"24px\">\n",
              "    <path d=\"M0 0h24v24H0V0z\" fill=\"none\"/>\n",
              "    <path d=\"M18.56 5.44l.94 2.06.94-2.06 2.06-.94-2.06-.94-.94-2.06-.94 2.06-2.06.94zm-11 1L8.5 8.5l.94-2.06 2.06-.94-2.06-.94L8.5 2.5l-.94 2.06-2.06.94zm10 10l.94 2.06.94-2.06 2.06-.94-2.06-.94-.94-2.06-.94 2.06-2.06.94z\"/><path d=\"M17.41 7.96l-1.37-1.37c-.4-.4-.92-.59-1.43-.59-.52 0-1.04.2-1.43.59L10.3 9.45l-7.72 7.72c-.78.78-.78 2.05 0 2.83L4 21.41c.39.39.9.59 1.41.59.51 0 1.02-.2 1.41-.59l7.78-7.78 2.81-2.81c.8-.78.8-2.07 0-2.86zM5.41 20L4 18.59l7.72-7.72 1.47 1.35L5.41 20z\"/>\n",
              "  </svg>\n",
              "      </button>\n",
              "      \n",
              "  <style>\n",
              "    .colab-df-container {\n",
              "      display:flex;\n",
              "      flex-wrap:wrap;\n",
              "      gap: 12px;\n",
              "    }\n",
              "\n",
              "    .colab-df-convert {\n",
              "      background-color: #E8F0FE;\n",
              "      border: none;\n",
              "      border-radius: 50%;\n",
              "      cursor: pointer;\n",
              "      display: none;\n",
              "      fill: #1967D2;\n",
              "      height: 32px;\n",
              "      padding: 0 0 0 0;\n",
              "      width: 32px;\n",
              "    }\n",
              "\n",
              "    .colab-df-convert:hover {\n",
              "      background-color: #E2EBFA;\n",
              "      box-shadow: 0px 1px 2px rgba(60, 64, 67, 0.3), 0px 1px 3px 1px rgba(60, 64, 67, 0.15);\n",
              "      fill: #174EA6;\n",
              "    }\n",
              "\n",
              "    [theme=dark] .colab-df-convert {\n",
              "      background-color: #3B4455;\n",
              "      fill: #D2E3FC;\n",
              "    }\n",
              "\n",
              "    [theme=dark] .colab-df-convert:hover {\n",
              "      background-color: #434B5C;\n",
              "      box-shadow: 0px 1px 3px 1px rgba(0, 0, 0, 0.15);\n",
              "      filter: drop-shadow(0px 1px 2px rgba(0, 0, 0, 0.3));\n",
              "      fill: #FFFFFF;\n",
              "    }\n",
              "  </style>\n",
              "\n",
              "      <script>\n",
              "        const buttonEl =\n",
              "          document.querySelector('#df-be5a6103-29ad-4b06-b2ff-b0e14088fc19 button.colab-df-convert');\n",
              "        buttonEl.style.display =\n",
              "          google.colab.kernel.accessAllowed ? 'block' : 'none';\n",
              "\n",
              "        async function convertToInteractive(key) {\n",
              "          const element = document.querySelector('#df-be5a6103-29ad-4b06-b2ff-b0e14088fc19');\n",
              "          const dataTable =\n",
              "            await google.colab.kernel.invokeFunction('convertToInteractive',\n",
              "                                                     [key], {});\n",
              "          if (!dataTable) return;\n",
              "\n",
              "          const docLinkHtml = 'Like what you see? Visit the ' +\n",
              "            '<a target=\"_blank\" href=https://colab.research.google.com/notebooks/data_table.ipynb>data table notebook</a>'\n",
              "            + ' to learn more about interactive tables.';\n",
              "          element.innerHTML = '';\n",
              "          dataTable['output_type'] = 'display_data';\n",
              "          await google.colab.output.renderOutput(dataTable, element);\n",
              "          const docLink = document.createElement('div');\n",
              "          docLink.innerHTML = docLinkHtml;\n",
              "          element.appendChild(docLink);\n",
              "        }\n",
              "      </script>\n",
              "    </div>\n",
              "  </div>\n",
              "  "
            ],
            "text/plain": [
              "                   Status\n",
              "Cancelled             820\n",
              "Trip Completed        472\n",
              "No Cars Available     385"
            ]
          },
          "metadata": {},
          "execution_count": 132
        }
      ]
    },
    {
      "cell_type": "code",
      "source": [
        "df_morning_city_count[\"Status\"].values"
      ],
      "metadata": {
        "colab": {
          "base_uri": "https://localhost:8080/"
        },
        "id": "7PiDo2UZyWbZ",
        "outputId": "9a7ebbd2-30ad-4766-eba8-4ff78533801a"
      },
      "execution_count": null,
      "outputs": [
        {
          "output_type": "execute_result",
          "data": {
            "text/plain": [
              "array([820, 472, 385])"
            ]
          },
          "metadata": {},
          "execution_count": 136
        }
      ]
    },
    {
      "cell_type": "code",
      "source": [
        "df_morning_city_count[\"Status\"].index"
      ],
      "metadata": {
        "colab": {
          "base_uri": "https://localhost:8080/"
        },
        "id": "H6CPmmIqyaiH",
        "outputId": "12e21311-4d83-4ebd-e5b5-7ce0718bf602"
      },
      "execution_count": null,
      "outputs": [
        {
          "output_type": "execute_result",
          "data": {
            "text/plain": [
              "Index(['Cancelled', 'Trip Completed', 'No Cars Available'], dtype='object')"
            ]
          },
          "metadata": {},
          "execution_count": 144
        }
      ]
    },
    {
      "cell_type": "markdown",
      "source": [
        "# **Making Pie Chart**"
      ],
      "metadata": {
        "id": "E12y8EPsvKa6"
      }
    },
    {
      "cell_type": "code",
      "source": [
        "fig,ax=plt.subplots()\n",
        "ax.pie(df_morning_city_count[\"Status\"].values,labels=df_morning_city_count[\"Status\"].index,autopct=\"%.2f%%\",startangle=90)\n",
        "plt.show()"
      ],
      "metadata": {
        "colab": {
          "base_uri": "https://localhost:8080/",
          "height": 248
        },
        "id": "hvla1jUvs_nE",
        "outputId": "e2149c21-094a-47de-d9cb-bba72e0e377a"
      },
      "execution_count": null,
      "outputs": [
        {
          "output_type": "display_data",
          "data": {
            "image/png": "[encoded data removed]",
            "text/plain": [
              "<Figure size 432x288 with 1 Axes>"
            ]
          },
          "metadata": {}
        }
      ]
    },
    {
      "cell_type": "markdown",
      "source": [
        "# **Making Another Dataset**"
      ],
      "metadata": {
        "id": "iI4Yujp4w7DK"
      }
    },
    {
      "cell_type": "code",
      "source": [
        "df_evening_city=df.loc[(df[\"Pickup point\"]==\"Airport\") & (df[\"Time_slot\"]==\"Evening_Rush\")]"
      ],
      "metadata": {
        "id": "McPrYQWIv4IX"
      },
      "execution_count": null,
      "outputs": []
    },
    {
      "cell_type": "markdown",
      "source": [
        "Creating new Data Frame"
      ],
      "metadata": {
        "id": "qklvPbTMx3GJ"
      }
    },
    {
      "cell_type": "code",
      "source": [
        "df_evening_airport_count=pd.DataFrame(df_evening_city[\"Status\"].value_counts())\n",
        "df_evening_airport_count"
      ],
      "metadata": {
        "colab": {
          "base_uri": "https://localhost:8080/",
          "height": 143
        },
        "id": "AHpyEcj1xgyS",
        "outputId": "efcbf2df-02fb-47b0-bab1-7767851e5e70"
      },
      "execution_count": null,
      "outputs": [
        {
          "output_type": "execute_result",
          "data": {
            "text/html": [
              "\n",
              "  <div id=\"df-7ff17277-3d15-431d-82cb-424ad066a49f\">\n",
              "    <div class=\"colab-df-container\">\n",
              "      <div>\n",
              "<style scoped>\n",
              "    .dataframe tbody tr th:only-of-type {\n",
              "        vertical-align: middle;\n",
              "    }\n",
              "\n",
              "    .dataframe tbody tr th {\n",
              "        vertical-align: top;\n",
              "    }\n",
              "\n",
              "    .dataframe thead th {\n",
              "        text-align: right;\n",
              "    }\n",
              "</style>\n",
              "<table border=\"1\" class=\"dataframe\">\n",
              "  <thead>\n",
              "    <tr style=\"text-align: right;\">\n",
              "      <th></th>\n",
              "      <th>Status</th>\n",
              "    </tr>\n",
              "  </thead>\n",
              "  <tbody>\n",
              "    <tr>\n",
              "      <th>No Cars Available</th>\n",
              "      <td>1321</td>\n",
              "    </tr>\n",
              "    <tr>\n",
              "      <th>Trip Completed</th>\n",
              "      <td>373</td>\n",
              "    </tr>\n",
              "    <tr>\n",
              "      <th>Cancelled</th>\n",
              "      <td>106</td>\n",
              "    </tr>\n",
              "  </tbody>\n",
              "</table>\n",
              "</div>\n",
              "      <button class=\"colab-df-convert\" onclick=\"convertToInteractive('df-7ff17277-3d15-431d-82cb-424ad066a49f')\"\n",
              "              title=\"Convert this dataframe to an interactive table.\"\n",
              "              style=\"display:none;\">\n",
              "        \n",
              "  <svg xmlns=\"http://www.w3.org/2000/svg\" height=\"24px\"viewBox=\"0 0 24 24\"\n",
              "       width=\"24px\">\n",
              "    <path d=\"M0 0h24v24H0V0z\" fill=\"none\"/>\n",
              "    <path d=\"M18.56 5.44l.94 2.06.94-2.06 2.06-.94-2.06-.94-.94-2.06-.94 2.06-2.06.94zm-11 1L8.5 8.5l.94-2.06 2.06-.94-2.06-.94L8.5 2.5l-.94 2.06-2.06.94zm10 10l.94 2.06.94-2.06 2.06-.94-2.06-.94-.94-2.06-.94 2.06-2.06.94z\"/><path d=\"M17.41 7.96l-1.37-1.37c-.4-.4-.92-.59-1.43-.59-.52 0-1.04.2-1.43.59L10.3 9.45l-7.72 7.72c-.78.78-.78 2.05 0 2.83L4 21.41c.39.39.9.59 1.41.59.51 0 1.02-.2 1.41-.59l7.78-7.78 2.81-2.81c.8-.78.8-2.07 0-2.86zM5.41 20L4 18.59l7.72-7.72 1.47 1.35L5.41 20z\"/>\n",
              "  </svg>\n",
              "      </button>\n",
              "      \n",
              "  <style>\n",
              "    .colab-df-container {\n",
              "      display:flex;\n",
              "      flex-wrap:wrap;\n",
              "      gap: 12px;\n",
              "    }\n",
              "\n",
              "    .colab-df-convert {\n",
              "      background-color: #E8F0FE;\n",
              "      border: none;\n",
              "      border-radius: 50%;\n",
              "      cursor: pointer;\n",
              "      display: none;\n",
              "      fill: #1967D2;\n",
              "      height: 32px;\n",
              "      padding: 0 0 0 0;\n",
              "      width: 32px;\n",
              "    }\n",
              "\n",
              "    .colab-df-convert:hover {\n",
              "      background-color: #E2EBFA;\n",
              "      box-shadow: 0px 1px 2px rgba(60, 64, 67, 0.3), 0px 1px 3px 1px rgba(60, 64, 67, 0.15);\n",
              "      fill: #174EA6;\n",
              "    }\n",
              "\n",
              "    [theme=dark] .colab-df-convert {\n",
              "      background-color: #3B4455;\n",
              "      fill: #D2E3FC;\n",
              "    }\n",
              "\n",
              "    [theme=dark] .colab-df-convert:hover {\n",
              "      background-color: #434B5C;\n",
              "      box-shadow: 0px 1px 3px 1px rgba(0, 0, 0, 0.15);\n",
              "      filter: drop-shadow(0px 1px 2px rgba(0, 0, 0, 0.3));\n",
              "      fill: #FFFFFF;\n",
              "    }\n",
              "  </style>\n",
              "\n",
              "      <script>\n",
              "        const buttonEl =\n",
              "          document.querySelector('#df-7ff17277-3d15-431d-82cb-424ad066a49f button.colab-df-convert');\n",
              "        buttonEl.style.display =\n",
              "          google.colab.kernel.accessAllowed ? 'block' : 'none';\n",
              "\n",
              "        async function convertToInteractive(key) {\n",
              "          const element = document.querySelector('#df-7ff17277-3d15-431d-82cb-424ad066a49f');\n",
              "          const dataTable =\n",
              "            await google.colab.kernel.invokeFunction('convertToInteractive',\n",
              "                                                     [key], {});\n",
              "          if (!dataTable) return;\n",
              "\n",
              "          const docLinkHtml = 'Like what you see? Visit the ' +\n",
              "            '<a target=\"_blank\" href=https://colab.research.google.com/notebooks/data_table.ipynb>data table notebook</a>'\n",
              "            + ' to learn more about interactive tables.';\n",
              "          element.innerHTML = '';\n",
              "          dataTable['output_type'] = 'display_data';\n",
              "          await google.colab.output.renderOutput(dataTable, element);\n",
              "          const docLink = document.createElement('div');\n",
              "          docLink.innerHTML = docLinkHtml;\n",
              "          element.appendChild(docLink);\n",
              "        }\n",
              "      </script>\n",
              "    </div>\n",
              "  </div>\n",
              "  "
            ],
            "text/plain": [
              "                   Status\n",
              "No Cars Available    1321\n",
              "Trip Completed        373\n",
              "Cancelled             106"
            ]
          },
          "metadata": {},
          "execution_count": 139
        }
      ]
    },
    {
      "cell_type": "code",
      "source": [
        "df_evening_airport_count[\"Status\"].values"
      ],
      "metadata": {
        "colab": {
          "base_uri": "https://localhost:8080/"
        },
        "id": "sNqIRxqGx1k5",
        "outputId": "f5eddcd7-1cfe-4ac6-d9f8-e5b3156fef62"
      },
      "execution_count": null,
      "outputs": [
        {
          "output_type": "execute_result",
          "data": {
            "text/plain": [
              "array([1321,  373,  106])"
            ]
          },
          "metadata": {},
          "execution_count": 141
        }
      ]
    },
    {
      "cell_type": "code",
      "source": [
        "df_evening_airport_count[\"Status\"].index"
      ],
      "metadata": {
        "colab": {
          "base_uri": "https://localhost:8080/"
        },
        "id": "HwNXlwbuyk15",
        "outputId": "af173dca-b7f6-4c06-d5c7-b8eac4d91aea"
      },
      "execution_count": null,
      "outputs": [
        {
          "output_type": "execute_result",
          "data": {
            "text/plain": [
              "Index(['No Cars Available', 'Trip Completed', 'Cancelled'], dtype='object')"
            ]
          },
          "metadata": {},
          "execution_count": 145
        }
      ]
    },
    {
      "cell_type": "markdown",
      "source": [
        "# **Making Pie Chart**"
      ],
      "metadata": {
        "id": "To1ZqbLWzBf9"
      }
    },
    {
      "cell_type": "code",
      "source": [
        "fig,ax=plt.subplots()\n",
        "ax.pie(df_evening_airport_count[\"Status\"].values,labels=df_evening_airport_count[\"Status\"].index,autopct=\"%.2f%%\",startangle=90)\n",
        "plt.show()"
      ],
      "metadata": {
        "colab": {
          "base_uri": "https://localhost:8080/",
          "height": 248
        },
        "id": "h8ZQZ7cay-yu",
        "outputId": "5c2f7c4b-3a4b-4c36-cd04-e989f2eb5fbf"
      },
      "execution_count": null,
      "outputs": [
        {
          "output_type": "display_data",
          "data": {
            "image/png": "[encoded data removed]",
            "text/plain": [
              "<Figure size 432x288 with 1 Axes>"
            ]
          },
          "metadata": {}
        }
      ]
    },
    {
      "cell_type": "markdown",
      "source": [
        "# **INFERENCES**\n",
        "\n",
        "1.   They Should Give Some Bonus For Each Trip They Complete From The City To The Airport In The Morning Rush. This Will Ensure That Less Number Of Trip Are Cancelled\n",
        "2.   Uber Can Pay For Gas milage For driver To come Back To The City Without A ride.\n",
        "3.   Drivers Can Agin BE Given Bonus To Complete A trip From The Airport In The Evening.This Will Ensure The Supply Incereases At The Airport.\n",
        "4.   Uber Can Also Pay drivers to Come Without Passenger To The Airport\n",
        "5.   Another Way Coul Be To Incerase Licenses Of Car Pooling Taxis So That Lesser Number Of Cars Can Serve More Pessangers."
      ],
      "metadata": {
        "id": "V5nYj36w0N7j"
      }
    }
  ]
}